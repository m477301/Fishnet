{
 "cells": [
  {
   "cell_type": "markdown",
   "id": "5c638e28",
   "metadata": {},
   "source": [
    "# 1. Import Dependencies"
   ]
  },
  {
   "cell_type": "code",
   "execution_count": 1,
   "id": "840e2c14",
   "metadata": {},
   "outputs": [
    {
     "name": "stdout",
     "output_type": "stream",
     "text": [
      "Requirement already satisfied: opencv-python in c:\\users\\matte\\documents\\tcdcollege\\4-fourthyear\\csu44099-finalyearproject\\fishnet\\shark-species-identifier\\identificationsystem\\lib\\site-packages (4.7.0.68)\n",
      "Requirement already satisfied: numpy>=1.19.3 in c:\\users\\matte\\documents\\tcdcollege\\4-fourthyear\\csu44099-finalyearproject\\fishnet\\shark-species-identifier\\identificationsystem\\lib\\site-packages (from opencv-python) (1.24.2)\n"
     ]
    }
   ],
   "source": [
    "!pip install opencv-python"
   ]
  },
  {
   "cell_type": "code",
   "execution_count": 2,
   "id": "a1d1478d",
   "metadata": {},
   "outputs": [],
   "source": [
    "# Import opencv\n",
    "import cv2 \n",
    "\n",
    "# Import uuid\n",
    "import uuid\n",
    "\n",
    "# Import Operating System\n",
    "import os\n",
    "\n",
    "# Import time\n",
    "import time"
   ]
  },
  {
   "cell_type": "markdown",
   "id": "5cacce82",
   "metadata": {},
   "source": [
    "# 2. Define Shark Species Images to Collect"
   ]
  },
  {
   "cell_type": "code",
   "execution_count": 3,
   "id": "8b11272e",
   "metadata": {},
   "outputs": [],
   "source": [
    "labels = ['BlackTip', 'Nurse', 'Tiger']\n",
    "number_imgs = 3"
   ]
  },
  {
   "cell_type": "markdown",
   "id": "fdb2ecfd",
   "metadata": {},
   "source": [
    "# 3. Setup Folders"
   ]
  },
  {
   "cell_type": "code",
   "execution_count": 4,
   "id": "b5c948be",
   "metadata": {},
   "outputs": [],
   "source": [
    "IMAGES_PATH = os.path.join('Tensorflow', 'workspace', 'images', 'collectedimages')"
   ]
  },
  {
   "cell_type": "code",
   "execution_count": 5,
   "id": "2048c1cb",
   "metadata": {},
   "outputs": [],
   "source": [
    "if not os.path.exists(IMAGES_PATH):\n",
    "    if os.name == 'posix':\n",
    "        !mkdir -p {IMAGES_PATH}\n",
    "    if os.name == 'nt':\n",
    "         !mkdir {IMAGES_PATH}\n",
    "for label in labels:\n",
    "    path = os.path.join(IMAGES_PATH, label)\n",
    "    if not os.path.exists(path):\n",
    "        !mkdir {path}"
   ]
  },
  {
   "cell_type": "markdown",
   "id": "46303d5f",
   "metadata": {},
   "source": [
    "# 4. Capture Images from Video"
   ]
  },
  {
   "cell_type": "code",
   "execution_count": 22,
   "id": "39d0ef94",
   "metadata": {},
   "outputs": [],
   "source": [
    "# run all\n",
    "video_path = 'C:/Users/matte/Documents/TCDCollege/4-FourthYear/CSU44099-FinalYearProject/Fishnet/Shark-Species-Identifier/identificationSystem/Media/' # all videos\n",
    "output_path = 'C:/Users/matte/Documents/TCDCollege/4-FourthYear/CSU44099-FinalYearProject/Fishnet/Shark-Species-Identifier/Tensorflow/workspace/images/collectedimages/blacktips/' # location on ur pc"
   ]
  },
  {
   "cell_type": "code",
   "execution_count": 23,
   "id": "19fe6d6c",
   "metadata": {},
   "outputs": [],
   "source": [
    "# Import Video\n",
    "list_videos = os.listdir(video_path)\n",
    "for video in list_videos:\n",
    "    video_base = os.path.basename(video)\n",
    "    input_file = video_path + '/' + video\n",
    "    out_path = output_path + '/' + video_base\n",
    "    # Convert Video to frame\n",
    "    if not os.path.exists(out_path):\n",
    "        os.makedirs(out_path)\n",
    "    cap = cv2.VideoCapture(input_file)\n",
    "    index = 0        \n",
    "    while cap.isOpened():\n",
    "        Ret, Mat = cap.read()\n",
    "        if Ret:\n",
    "            index += 1\n",
    "            if index % 29 != 0:\n",
    "                continue\n",
    "            cv2.imwrite(out_path + '/' + \"blacktip.\" + video + str(index) + '.png', Mat)\n",
    "        else:\n",
    "            break\n",
    "    cap.release()"
   ]
  },
  {
   "cell_type": "markdown",
   "id": "4eb03f03",
   "metadata": {},
   "source": [
    "# 5. Label Images"
   ]
  },
  {
   "cell_type": "code",
   "execution_count": 17,
   "id": "4504d379",
   "metadata": {
    "scrolled": true
   },
   "outputs": [
    {
     "name": "stdout",
     "output_type": "stream",
     "text": [
      "Requirement already satisfied: pyqt5 in c:\\users\\matte\\documents\\tcdcollege\\4-fourthyear\\csu44099-finalyearproject\\fishnet\\shark-species-identifier\\identificationsystem\\lib\\site-packages (5.15.9)\n",
      "Requirement already satisfied: lxml in c:\\users\\matte\\documents\\tcdcollege\\4-fourthyear\\csu44099-finalyearproject\\fishnet\\shark-species-identifier\\identificationsystem\\lib\\site-packages (4.9.2)\n",
      "Requirement already satisfied: PyQt5-Qt5>=5.15.2 in c:\\users\\matte\\documents\\tcdcollege\\4-fourthyear\\csu44099-finalyearproject\\fishnet\\shark-species-identifier\\identificationsystem\\lib\\site-packages (from pyqt5) (5.15.2)\n",
      "Requirement already satisfied: PyQt5-sip<13,>=12.11 in c:\\users\\matte\\documents\\tcdcollege\\4-fourthyear\\csu44099-finalyearproject\\fishnet\\shark-species-identifier\\identificationsystem\\lib\\site-packages (from pyqt5) (12.11.1)\n"
     ]
    }
   ],
   "source": [
    "!pip install --upgrade pyqt5 lxml"
   ]
  },
  {
   "cell_type": "code",
   "execution_count": 18,
   "id": "add90bcb",
   "metadata": {},
   "outputs": [],
   "source": [
    "LABELIMG_PATH = os.path.join('Tensorflow', 'labelimg')"
   ]
  },
  {
   "cell_type": "code",
   "execution_count": 19,
   "id": "59978098",
   "metadata": {},
   "outputs": [],
   "source": [
    "if not os.path.exists(LABELIMG_PATH):\n",
    "    !mkdir {LABELIMG_PATH}\n",
    "    !git clone https://github.com/tzutalin/labelImg {LABELIMG_PATH}"
   ]
  },
  {
   "cell_type": "code",
   "execution_count": 20,
   "id": "9c26b497",
   "metadata": {},
   "outputs": [],
   "source": [
    "if os.name == 'posix':\n",
    "    !make qt5py3\n",
    "if os.name =='nt':\n",
    "    !cd {LABELIMG_PATH} && pyrcc5 -o libs/resources.py resources.qrc"
   ]
  },
  {
   "cell_type": "code",
   "execution_count": 21,
   "id": "8725065b",
   "metadata": {},
   "outputs": [
    {
     "name": "stdout",
     "output_type": "stream",
     "text": [
      "Image:C:\\Users\\matte\\Documents\\TCDCollege\\4-FourthYear\\CSU44099-FinalYearProject\\Fishnet\\Shark-Species-Identifier\\Tensorflow\\workspace\\images\\collectedimages\\blacktip\\499125795.mp4\\87.png -> Annotation:C:/Users/matte/Documents/TCDCollege/4-FourthYear/CSU44099-FinalYearProject/Fishnet/Shark-Species-Identifier/Tensorflow/workspace/images/collectedimages/blacktip/499125795.mp4\\87.xml\n",
      "Cancel creation.\n",
      "Image:C:\\Users\\matte\\Documents\\TCDCollege\\4-FourthYear\\CSU44099-FinalYearProject\\Fishnet\\Shark-Species-Identifier\\Tensorflow\\workspace\\images\\collectedimages\\blacktip\\499125795.mp4\\116.png -> Annotation:C:/Users/matte/Documents/TCDCollege/4-FourthYear/CSU44099-FinalYearProject/Fishnet/Shark-Species-Identifier/Tensorflow/workspace/images/collectedimages/blacktip/499125795.mp4\\116.xml\n",
      "Image:C:\\Users\\matte\\Documents\\TCDCollege\\4-FourthYear\\CSU44099-FinalYearProject\\Fishnet\\Shark-Species-Identifier\\Tensorflow\\workspace\\images\\collectedimages\\blacktip\\499125795.mp4\\174.png -> Annotation:C:/Users/matte/Documents/TCDCollege/4-FourthYear/CSU44099-FinalYearProject/Fishnet/Shark-Species-Identifier/Tensorflow/workspace/images/collectedimages/blacktip/499125795.mp4\\174.xml\n",
      "Image:C:\\Users\\matte\\Documents\\TCDCollege\\4-FourthYear\\CSU44099-FinalYearProject\\Fishnet\\Shark-Species-Identifier\\Tensorflow\\workspace\\images\\collectedimages\\blacktip\\499125795.mp4\\203.png -> Annotation:C:/Users/matte/Documents/TCDCollege/4-FourthYear/CSU44099-FinalYearProject/Fishnet/Shark-Species-Identifier/Tensorflow/workspace/images/collectedimages/blacktip/499125795.mp4\\203.xml\n",
      "Image:C:\\Users\\matte\\Documents\\TCDCollege\\4-FourthYear\\CSU44099-FinalYearProject\\Fishnet\\Shark-Species-Identifier\\Tensorflow\\workspace\\images\\collectedimages\\blacktip\\499125795.mp4\\232.png -> Annotation:C:/Users/matte/Documents/TCDCollege/4-FourthYear/CSU44099-FinalYearProject/Fishnet/Shark-Species-Identifier/Tensorflow/workspace/images/collectedimages/blacktip/499125795.mp4\\232.xml\n",
      "Image:C:\\Users\\matte\\Documents\\TCDCollege\\4-FourthYear\\CSU44099-FinalYearProject\\Fishnet\\Shark-Species-Identifier\\Tensorflow\\workspace\\images\\collectedimages\\blacktip\\499125795.mp4\\261.png -> Annotation:C:/Users/matte/Documents/TCDCollege/4-FourthYear/CSU44099-FinalYearProject/Fishnet/Shark-Species-Identifier/Tensorflow/workspace/images/collectedimages/blacktip/499125795.mp4\\261.xml\n",
      "Image:C:\\Users\\matte\\Documents\\TCDCollege\\4-FourthYear\\CSU44099-FinalYearProject\\Fishnet\\Shark-Species-Identifier\\Tensorflow\\workspace\\images\\collectedimages\\blacktip\\499125795.mp4\\290.png -> Annotation:C:/Users/matte/Documents/TCDCollege/4-FourthYear/CSU44099-FinalYearProject/Fishnet/Shark-Species-Identifier/Tensorflow/workspace/images/collectedimages/blacktip/499125795.mp4\\290.xml\n",
      "Image:C:\\Users\\matte\\Documents\\TCDCollege\\4-FourthYear\\CSU44099-FinalYearProject\\Fishnet\\Shark-Species-Identifier\\Tensorflow\\workspace\\images\\collectedimages\\blacktip\\2725571732.mp4\\87.png -> Annotation:C:/Users/matte/Documents/TCDCollege/4-FourthYear/CSU44099-FinalYearProject/Fishnet/Shark-Species-Identifier/Tensorflow/workspace/images/collectedimages/blacktip/2725571732.mp4\\87.xml\n",
      "Image:C:\\Users\\matte\\Documents\\TCDCollege\\4-FourthYear\\CSU44099-FinalYearProject\\Fishnet\\Shark-Species-Identifier\\Tensorflow\\workspace\\images\\collectedimages\\blacktip\\2725571732.mp4\\116.png -> Annotation:C:/Users/matte/Documents/TCDCollege/4-FourthYear/CSU44099-FinalYearProject/Fishnet/Shark-Species-Identifier/Tensorflow/workspace/images/collectedimages/blacktip/2725571732.mp4\\116.xml\n",
      "Cancel creation.\n",
      "Image:C:\\Users\\matte\\Documents\\TCDCollege\\4-FourthYear\\CSU44099-FinalYearProject\\Fishnet\\Shark-Species-Identifier\\Tensorflow\\workspace\\images\\collectedimages\\blacktip\\2725571732.mp4\\145.png -> Annotation:C:/Users/matte/Documents/TCDCollege/4-FourthYear/CSU44099-FinalYearProject/Fishnet/Shark-Species-Identifier/Tensorflow/workspace/images/collectedimages/blacktip/2725571732.mp4\\145.xml\n",
      "Image:C:\\Users\\matte\\Documents\\TCDCollege\\4-FourthYear\\CSU44099-FinalYearProject\\Fishnet\\Shark-Species-Identifier\\Tensorflow\\workspace\\images\\collectedimages\\blacktip\\2725571732.mp4\\174.png -> Annotation:C:/Users/matte/Documents/TCDCollege/4-FourthYear/CSU44099-FinalYearProject/Fishnet/Shark-Species-Identifier/Tensorflow/workspace/images/collectedimages/blacktip/2725571732.mp4\\174.xml\n",
      "Image:C:\\Users\\matte\\Documents\\TCDCollege\\4-FourthYear\\CSU44099-FinalYearProject\\Fishnet\\Shark-Species-Identifier\\Tensorflow\\workspace\\images\\collectedimages\\blacktip\\2725571732.mp4\\203.png -> Annotation:C:/Users/matte/Documents/TCDCollege/4-FourthYear/CSU44099-FinalYearProject/Fishnet/Shark-Species-Identifier/Tensorflow/workspace/images/collectedimages/blacktip/2725571732.mp4\\203.xml\n",
      "Cancel creation.\n",
      "Image:C:\\Users\\matte\\Documents\\TCDCollege\\4-FourthYear\\CSU44099-FinalYearProject\\Fishnet\\Shark-Species-Identifier\\Tensorflow\\workspace\\images\\collectedimages\\blacktip\\2725571732.mp4\\232.png -> Annotation:C:/Users/matte/Documents/TCDCollege/4-FourthYear/CSU44099-FinalYearProject/Fishnet/Shark-Species-Identifier/Tensorflow/workspace/images/collectedimages/blacktip/2725571732.mp4\\232.xml\n",
      "Image:C:\\Users\\matte\\Documents\\TCDCollege\\4-FourthYear\\CSU44099-FinalYearProject\\Fishnet\\Shark-Species-Identifier\\Tensorflow\\workspace\\images\\collectedimages\\blacktip\\2725571732.mp4\\261.png -> Annotation:C:/Users/matte/Documents/TCDCollege/4-FourthYear/CSU44099-FinalYearProject/Fishnet/Shark-Species-Identifier/Tensorflow/workspace/images/collectedimages/blacktip/2725571732.mp4\\261.xml\n",
      "Image:C:\\Users\\matte\\Documents\\TCDCollege\\4-FourthYear\\CSU44099-FinalYearProject\\Fishnet\\Shark-Species-Identifier\\Tensorflow\\workspace\\images\\collectedimages\\blacktip\\2725571732.mp4\\290.png -> Annotation:C:/Users/matte/Documents/TCDCollege/4-FourthYear/CSU44099-FinalYearProject/Fishnet/Shark-Species-Identifier/Tensorflow/workspace/images/collectedimages/blacktip/2725571732.mp4\\290.xml\n",
      "Image:C:\\Users\\matte\\Documents\\TCDCollege\\4-FourthYear\\CSU44099-FinalYearProject\\Fishnet\\Shark-Species-Identifier\\Tensorflow\\workspace\\images\\collectedimages\\blacktip\\2725571732.mp4\\319.png -> Annotation:C:/Users/matte/Documents/TCDCollege/4-FourthYear/CSU44099-FinalYearProject/Fishnet/Shark-Species-Identifier/Tensorflow/workspace/images/collectedimages/blacktip/2725571732.mp4\\319.xml\n",
      "Image:C:\\Users\\matte\\Documents\\TCDCollege\\4-FourthYear\\CSU44099-FinalYearProject\\Fishnet\\Shark-Species-Identifier\\Tensorflow\\workspace\\images\\collectedimages\\blacktip\\2725571732.mp4\\348.png -> Annotation:C:/Users/matte/Documents/TCDCollege/4-FourthYear/CSU44099-FinalYearProject/Fishnet/Shark-Species-Identifier/Tensorflow/workspace/images/collectedimages/blacktip/2725571732.mp4\\348.xml\n",
      "Image:C:\\Users\\matte\\Documents\\TCDCollege\\4-FourthYear\\CSU44099-FinalYearProject\\Fishnet\\Shark-Species-Identifier\\Tensorflow\\workspace\\images\\collectedimages\\blacktip\\2725571732.mp4\\377.png -> Annotation:C:/Users/matte/Documents/TCDCollege/4-FourthYear/CSU44099-FinalYearProject/Fishnet/Shark-Species-Identifier/Tensorflow/workspace/images/collectedimages/blacktip/2725571732.mp4\\377.xml\n",
      "Image:C:\\Users\\matte\\Documents\\TCDCollege\\4-FourthYear\\CSU44099-FinalYearProject\\Fishnet\\Shark-Species-Identifier\\Tensorflow\\workspace\\images\\collectedimages\\blacktip\\2725571732.mp4\\406.png -> Annotation:C:/Users/matte/Documents/TCDCollege/4-FourthYear/CSU44099-FinalYearProject/Fishnet/Shark-Species-Identifier/Tensorflow/workspace/images/collectedimages/blacktip/2725571732.mp4\\406.xml\n",
      "Image:C:\\Users\\matte\\Documents\\TCDCollege\\4-FourthYear\\CSU44099-FinalYearProject\\Fishnet\\Shark-Species-Identifier\\Tensorflow\\workspace\\images\\collectedimages\\blacktip\\blacktip_shark_at_the_stingray_sandbar,_cayman_islands (Original).mp4\\29.png -> Annotation:C:/Users/matte/Documents/TCDCollege/4-FourthYear/CSU44099-FinalYearProject/Fishnet/Shark-Species-Identifier/Tensorflow/workspace/images/collectedimages/blacktip/blacktip_shark_at_the_stingray_sandbar,_cayman_islands (Original).mp4\\29.xml\n",
      "Image:C:\\Users\\matte\\Documents\\TCDCollege\\4-FourthYear\\CSU44099-FinalYearProject\\Fishnet\\Shark-Species-Identifier\\Tensorflow\\workspace\\images\\collectedimages\\blacktip\\blacktip_shark_at_the_stingray_sandbar,_cayman_islands (Original).mp4\\58.png -> Annotation:C:/Users/matte/Documents/TCDCollege/4-FourthYear/CSU44099-FinalYearProject/Fishnet/Shark-Species-Identifier/Tensorflow/workspace/images/collectedimages/blacktip/blacktip_shark_at_the_stingray_sandbar,_cayman_islands (Original).mp4\\58.xml\n",
      "Image:C:\\Users\\matte\\Documents\\TCDCollege\\4-FourthYear\\CSU44099-FinalYearProject\\Fishnet\\Shark-Species-Identifier\\Tensorflow\\workspace\\images\\collectedimages\\blacktip\\blacktip_shark_at_the_stingray_sandbar,_cayman_islands (Original).mp4\\87.png -> Annotation:C:/Users/matte/Documents/TCDCollege/4-FourthYear/CSU44099-FinalYearProject/Fishnet/Shark-Species-Identifier/Tensorflow/workspace/images/collectedimages/blacktip/blacktip_shark_at_the_stingray_sandbar,_cayman_islands (Original).mp4\\87.xml\n",
      "Image:C:\\Users\\matte\\Documents\\TCDCollege\\4-FourthYear\\CSU44099-FinalYearProject\\Fishnet\\Shark-Species-Identifier\\Tensorflow\\workspace\\images\\collectedimages\\blacktip\\blacktip_shark_at_the_stingray_sandbar,_cayman_islands (Original).mp4\\116.png -> Annotation:C:/Users/matte/Documents/TCDCollege/4-FourthYear/CSU44099-FinalYearProject/Fishnet/Shark-Species-Identifier/Tensorflow/workspace/images/collectedimages/blacktip/blacktip_shark_at_the_stingray_sandbar,_cayman_islands (Original).mp4\\116.xml\n",
      "Cancel creation.\n",
      "Image:C:\\Users\\matte\\Documents\\TCDCollege\\4-FourthYear\\CSU44099-FinalYearProject\\Fishnet\\Shark-Species-Identifier\\Tensorflow\\workspace\\images\\collectedimages\\blacktip\\blacktip_shark_at_the_stingray_sandbar,_cayman_islands (Original).mp4\\145.png -> Annotation:C:/Users/matte/Documents/TCDCollege/4-FourthYear/CSU44099-FinalYearProject/Fishnet/Shark-Species-Identifier/Tensorflow/workspace/images/collectedimages/blacktip/blacktip_shark_at_the_stingray_sandbar,_cayman_islands (Original).mp4\\145.xml\n",
      "Image:C:\\Users\\matte\\Documents\\TCDCollege\\4-FourthYear\\CSU44099-FinalYearProject\\Fishnet\\Shark-Species-Identifier\\Tensorflow\\workspace\\images\\collectedimages\\blacktip\\blacktip_shark_at_the_stingray_sandbar,_cayman_islands (Original).mp4\\174.png -> Annotation:C:/Users/matte/Documents/TCDCollege/4-FourthYear/CSU44099-FinalYearProject/Fishnet/Shark-Species-Identifier/Tensorflow/workspace/images/collectedimages/blacktip/blacktip_shark_at_the_stingray_sandbar,_cayman_islands (Original).mp4\\174.xml\n",
      "Image:C:\\Users\\matte\\Documents\\TCDCollege\\4-FourthYear\\CSU44099-FinalYearProject\\Fishnet\\Shark-Species-Identifier\\Tensorflow\\workspace\\images\\collectedimages\\blacktip\\blacktip_shark_at_the_stingray_sandbar,_cayman_islands (Original).mp4\\203.png -> Annotation:C:/Users/matte/Documents/TCDCollege/4-FourthYear/CSU44099-FinalYearProject/Fishnet/Shark-Species-Identifier/Tensorflow/workspace/images/collectedimages/blacktip/blacktip_shark_at_the_stingray_sandbar,_cayman_islands (Original).mp4\\203.xml\n",
      "Image:C:\\Users\\matte\\Documents\\TCDCollege\\4-FourthYear\\CSU44099-FinalYearProject\\Fishnet\\Shark-Species-Identifier\\Tensorflow\\workspace\\images\\collectedimages\\blacktip\\blacktip_shark_at_the_stingray_sandbar,_cayman_islands (Original).mp4\\232.png -> Annotation:C:/Users/matte/Documents/TCDCollege/4-FourthYear/CSU44099-FinalYearProject/Fishnet/Shark-Species-Identifier/Tensorflow/workspace/images/collectedimages/blacktip/blacktip_shark_at_the_stingray_sandbar,_cayman_islands (Original).mp4\\232.xml\n",
      "Image:C:\\Users\\matte\\Documents\\TCDCollege\\4-FourthYear\\CSU44099-FinalYearProject\\Fishnet\\Shark-Species-Identifier\\Tensorflow\\workspace\\images\\collectedimages\\blacktip\\blacktip_shark_at_the_stingray_sandbar,_cayman_islands (Original).mp4\\261.png -> Annotation:C:/Users/matte/Documents/TCDCollege/4-FourthYear/CSU44099-FinalYearProject/Fishnet/Shark-Species-Identifier/Tensorflow/workspace/images/collectedimages/blacktip/blacktip_shark_at_the_stingray_sandbar,_cayman_islands (Original).mp4\\261.xml\n",
      "Image:C:\\Users\\matte\\Documents\\TCDCollege\\4-FourthYear\\CSU44099-FinalYearProject\\Fishnet\\Shark-Species-Identifier\\Tensorflow\\workspace\\images\\collectedimages\\blacktip\\blacktip_shark_at_the_stingray_sandbar,_cayman_islands (Original).mp4\\290.png -> Annotation:C:/Users/matte/Documents/TCDCollege/4-FourthYear/CSU44099-FinalYearProject/Fishnet/Shark-Species-Identifier/Tensorflow/workspace/images/collectedimages/blacktip/blacktip_shark_at_the_stingray_sandbar,_cayman_islands (Original).mp4\\290.xml\n",
      "Image:C:\\Users\\matte\\Documents\\TCDCollege\\4-FourthYear\\CSU44099-FinalYearProject\\Fishnet\\Shark-Species-Identifier\\Tensorflow\\workspace\\images\\collectedimages\\blacktip\\blacktip_shark_at_the_stingray_sandbar,_cayman_islands (Original).mp4\\319.png -> Annotation:C:/Users/matte/Documents/TCDCollege/4-FourthYear/CSU44099-FinalYearProject/Fishnet/Shark-Species-Identifier/Tensorflow/workspace/images/collectedimages/blacktip/blacktip_shark_at_the_stingray_sandbar,_cayman_islands (Original).mp4\\319.xml\n",
      "Image:C:\\Users\\matte\\Documents\\TCDCollege\\4-FourthYear\\CSU44099-FinalYearProject\\Fishnet\\Shark-Species-Identifier\\Tensorflow\\workspace\\images\\collectedimages\\blacktip\\blacktip_shark_at_the_stingray_sandbar,_cayman_islands (Original).mp4\\348.png -> Annotation:C:/Users/matte/Documents/TCDCollege/4-FourthYear/CSU44099-FinalYearProject/Fishnet/Shark-Species-Identifier/Tensorflow/workspace/images/collectedimages/blacktip/blacktip_shark_at_the_stingray_sandbar,_cayman_islands (Original).mp4\\348.xml\n",
      "Image:C:\\Users\\matte\\Documents\\TCDCollege\\4-FourthYear\\CSU44099-FinalYearProject\\Fishnet\\Shark-Species-Identifier\\Tensorflow\\workspace\\images\\collectedimages\\blacktip\\blacktip_shark_at_the_stingray_sandbar,_cayman_islands (Original).mp4\\377.png -> Annotation:C:/Users/matte/Documents/TCDCollege/4-FourthYear/CSU44099-FinalYearProject/Fishnet/Shark-Species-Identifier/Tensorflow/workspace/images/collectedimages/blacktip/blacktip_shark_at_the_stingray_sandbar,_cayman_islands (Original).mp4\\377.xml\n",
      "Image:C:\\Users\\matte\\Documents\\TCDCollege\\4-FourthYear\\CSU44099-FinalYearProject\\Fishnet\\Shark-Species-Identifier\\Tensorflow\\workspace\\images\\collectedimages\\blacktip\\blacktip_shark_at_the_stingray_sandbar,_cayman_islands (Original).mp4\\406.png -> Annotation:C:/Users/matte/Documents/TCDCollege/4-FourthYear/CSU44099-FinalYearProject/Fishnet/Shark-Species-Identifier/Tensorflow/workspace/images/collectedimages/blacktip/blacktip_shark_at_the_stingray_sandbar,_cayman_islands (Original).mp4\\406.xml\n",
      "Image:C:\\Users\\matte\\Documents\\TCDCollege\\4-FourthYear\\CSU44099-FinalYearProject\\Fishnet\\Shark-Species-Identifier\\Tensorflow\\workspace\\images\\collectedimages\\blacktip\\blacktip_shark_at_the_stingray_sandbar,_cayman_islands (Original).mp4\\435.png -> Annotation:C:/Users/matte/Documents/TCDCollege/4-FourthYear/CSU44099-FinalYearProject/Fishnet/Shark-Species-Identifier/Tensorflow/workspace/images/collectedimages/blacktip/blacktip_shark_at_the_stingray_sandbar,_cayman_islands (Original).mp4\\435.xml\n",
      "Image:C:\\Users\\matte\\Documents\\TCDCollege\\4-FourthYear\\CSU44099-FinalYearProject\\Fishnet\\Shark-Species-Identifier\\Tensorflow\\workspace\\images\\collectedimages\\blacktip\\blacktip_shark_at_the_stingray_sandbar,_cayman_islands (Original).mp4\\464.png -> Annotation:C:/Users/matte/Documents/TCDCollege/4-FourthYear/CSU44099-FinalYearProject/Fishnet/Shark-Species-Identifier/Tensorflow/workspace/images/collectedimages/blacktip/blacktip_shark_at_the_stingray_sandbar,_cayman_islands (Original).mp4\\464.xml\n",
      "Image:C:\\Users\\matte\\Documents\\TCDCollege\\4-FourthYear\\CSU44099-FinalYearProject\\Fishnet\\Shark-Species-Identifier\\Tensorflow\\workspace\\images\\collectedimages\\blacktip\\blacktip_shark_at_the_stingray_sandbar,_cayman_islands (Original).mp4\\493.png -> Annotation:C:/Users/matte/Documents/TCDCollege/4-FourthYear/CSU44099-FinalYearProject/Fishnet/Shark-Species-Identifier/Tensorflow/workspace/images/collectedimages/blacktip/blacktip_shark_at_the_stingray_sandbar,_cayman_islands (Original).mp4\\493.xml\n",
      "Image:C:\\Users\\matte\\Documents\\TCDCollege\\4-FourthYear\\CSU44099-FinalYearProject\\Fishnet\\Shark-Species-Identifier\\Tensorflow\\workspace\\images\\collectedimages\\blacktip\\blacktip_shark_at_the_stingray_sandbar,_cayman_islands (Original).mp4\\522.png -> Annotation:C:/Users/matte/Documents/TCDCollege/4-FourthYear/CSU44099-FinalYearProject/Fishnet/Shark-Species-Identifier/Tensorflow/workspace/images/collectedimages/blacktip/blacktip_shark_at_the_stingray_sandbar,_cayman_islands (Original).mp4\\522.xml\n",
      "Image:C:\\Users\\matte\\Documents\\TCDCollege\\4-FourthYear\\CSU44099-FinalYearProject\\Fishnet\\Shark-Species-Identifier\\Tensorflow\\workspace\\images\\collectedimages\\blacktip\\blacktip_shark_at_the_stingray_sandbar,_cayman_islands (Original).mp4\\551.png -> Annotation:C:/Users/matte/Documents/TCDCollege/4-FourthYear/CSU44099-FinalYearProject/Fishnet/Shark-Species-Identifier/Tensorflow/workspace/images/collectedimages/blacktip/blacktip_shark_at_the_stingray_sandbar,_cayman_islands (Original).mp4\\551.xml\n",
      "Image:C:\\Users\\matte\\Documents\\TCDCollege\\4-FourthYear\\CSU44099-FinalYearProject\\Fishnet\\Shark-Species-Identifier\\Tensorflow\\workspace\\images\\collectedimages\\blacktip\\blacktip_shark_at_the_stingray_sandbar,_cayman_islands (Original).mp4\\580.png -> Annotation:C:/Users/matte/Documents/TCDCollege/4-FourthYear/CSU44099-FinalYearProject/Fishnet/Shark-Species-Identifier/Tensorflow/workspace/images/collectedimages/blacktip/blacktip_shark_at_the_stingray_sandbar,_cayman_islands (Original).mp4\\580.xml\n",
      "Image:C:\\Users\\matte\\Documents\\TCDCollege\\4-FourthYear\\CSU44099-FinalYearProject\\Fishnet\\Shark-Species-Identifier\\Tensorflow\\workspace\\images\\collectedimages\\blacktip\\blacktip_shark_at_the_stingray_sandbar,_cayman_islands (Original).mp4\\609.png -> Annotation:C:/Users/matte/Documents/TCDCollege/4-FourthYear/CSU44099-FinalYearProject/Fishnet/Shark-Species-Identifier/Tensorflow/workspace/images/collectedimages/blacktip/blacktip_shark_at_the_stingray_sandbar,_cayman_islands (Original).mp4\\609.xml\n",
      "Image:C:\\Users\\matte\\Documents\\TCDCollege\\4-FourthYear\\CSU44099-FinalYearProject\\Fishnet\\Shark-Species-Identifier\\Tensorflow\\workspace\\images\\collectedimages\\blacktip\\blacktip_shark_at_the_stingray_sandbar,_cayman_islands (Original).mp4\\638.png -> Annotation:C:/Users/matte/Documents/TCDCollege/4-FourthYear/CSU44099-FinalYearProject/Fishnet/Shark-Species-Identifier/Tensorflow/workspace/images/collectedimages/blacktip/blacktip_shark_at_the_stingray_sandbar,_cayman_islands (Original).mp4\\638.xml\n",
      "Image:C:\\Users\\matte\\Documents\\TCDCollege\\4-FourthYear\\CSU44099-FinalYearProject\\Fishnet\\Shark-Species-Identifier\\Tensorflow\\workspace\\images\\collectedimages\\blacktip\\blacktip_shark_at_the_stingray_sandbar,_cayman_islands (Original).mp4\\667.png -> Annotation:C:/Users/matte/Documents/TCDCollege/4-FourthYear/CSU44099-FinalYearProject/Fishnet/Shark-Species-Identifier/Tensorflow/workspace/images/collectedimages/blacktip/blacktip_shark_at_the_stingray_sandbar,_cayman_islands (Original).mp4\\667.xml\n",
      "Image:C:\\Users\\matte\\Documents\\TCDCollege\\4-FourthYear\\CSU44099-FinalYearProject\\Fishnet\\Shark-Species-Identifier\\Tensorflow\\workspace\\images\\collectedimages\\blacktip\\blacktip_shark_at_the_stingray_sandbar,_cayman_islands (Original).mp4\\696.png -> Annotation:C:/Users/matte/Documents/TCDCollege/4-FourthYear/CSU44099-FinalYearProject/Fishnet/Shark-Species-Identifier/Tensorflow/workspace/images/collectedimages/blacktip/blacktip_shark_at_the_stingray_sandbar,_cayman_islands (Original).mp4\\696.xml\n",
      "Image:C:\\Users\\matte\\Documents\\TCDCollege\\4-FourthYear\\CSU44099-FinalYearProject\\Fishnet\\Shark-Species-Identifier\\Tensorflow\\workspace\\images\\collectedimages\\blacktip\\blacktip_shark_at_the_stingray_sandbar,_cayman_islands (Original).mp4\\725.png -> Annotation:C:/Users/matte/Documents/TCDCollege/4-FourthYear/CSU44099-FinalYearProject/Fishnet/Shark-Species-Identifier/Tensorflow/workspace/images/collectedimages/blacktip/blacktip_shark_at_the_stingray_sandbar,_cayman_islands (Original).mp4\\725.xml\n",
      "Image:C:\\Users\\matte\\Documents\\TCDCollege\\4-FourthYear\\CSU44099-FinalYearProject\\Fishnet\\Shark-Species-Identifier\\Tensorflow\\workspace\\images\\collectedimages\\blacktip\\blacktip_shark_at_the_stingray_sandbar,_cayman_islands (Original).mp4\\754.png -> Annotation:C:/Users/matte/Documents/TCDCollege/4-FourthYear/CSU44099-FinalYearProject/Fishnet/Shark-Species-Identifier/Tensorflow/workspace/images/collectedimages/blacktip/blacktip_shark_at_the_stingray_sandbar,_cayman_islands (Original).mp4\\754.xml\n",
      "Image:C:\\Users\\matte\\Documents\\TCDCollege\\4-FourthYear\\CSU44099-FinalYearProject\\Fishnet\\Shark-Species-Identifier\\Tensorflow\\workspace\\images\\collectedimages\\blacktip\\blacktip_shark_at_the_stingray_sandbar,_cayman_islands (Original).mp4\\783.png -> Annotation:C:/Users/matte/Documents/TCDCollege/4-FourthYear/CSU44099-FinalYearProject/Fishnet/Shark-Species-Identifier/Tensorflow/workspace/images/collectedimages/blacktip/blacktip_shark_at_the_stingray_sandbar,_cayman_islands (Original).mp4\\783.xml\n",
      "Image:C:\\Users\\matte\\Documents\\TCDCollege\\4-FourthYear\\CSU44099-FinalYearProject\\Fishnet\\Shark-Species-Identifier\\Tensorflow\\workspace\\images\\collectedimages\\blacktip\\blacktip_shark_at_the_stingray_sandbar,_cayman_islands (Original).mp4\\812.png -> Annotation:C:/Users/matte/Documents/TCDCollege/4-FourthYear/CSU44099-FinalYearProject/Fishnet/Shark-Species-Identifier/Tensorflow/workspace/images/collectedimages/blacktip/blacktip_shark_at_the_stingray_sandbar,_cayman_islands (Original).mp4\\812.xml\n",
      "Image:C:\\Users\\matte\\Documents\\TCDCollege\\4-FourthYear\\CSU44099-FinalYearProject\\Fishnet\\Shark-Species-Identifier\\Tensorflow\\workspace\\images\\collectedimages\\blacktip\\blacktip_shark_at_the_stingray_sandbar,_cayman_islands (Original).mp4\\841.png -> Annotation:C:/Users/matte/Documents/TCDCollege/4-FourthYear/CSU44099-FinalYearProject/Fishnet/Shark-Species-Identifier/Tensorflow/workspace/images/collectedimages/blacktip/blacktip_shark_at_the_stingray_sandbar,_cayman_islands (Original).mp4\\841.xml\n",
      "Image:C:\\Users\\matte\\Documents\\TCDCollege\\4-FourthYear\\CSU44099-FinalYearProject\\Fishnet\\Shark-Species-Identifier\\Tensorflow\\workspace\\images\\collectedimages\\blacktip\\blacktip_shark_at_the_stingray_sandbar,_cayman_islands (Original).mp4\\870.png -> Annotation:C:/Users/matte/Documents/TCDCollege/4-FourthYear/CSU44099-FinalYearProject/Fishnet/Shark-Species-Identifier/Tensorflow/workspace/images/collectedimages/blacktip/blacktip_shark_at_the_stingray_sandbar,_cayman_islands (Original).mp4\\870.xml\n",
      "Image:C:\\Users\\matte\\Documents\\TCDCollege\\4-FourthYear\\CSU44099-FinalYearProject\\Fishnet\\Shark-Species-Identifier\\Tensorflow\\workspace\\images\\collectedimages\\blacktip\\blacktip_shark_at_the_stingray_sandbar,_cayman_islands (Original).mp4\\899.png -> Annotation:C:/Users/matte/Documents/TCDCollege/4-FourthYear/CSU44099-FinalYearProject/Fishnet/Shark-Species-Identifier/Tensorflow/workspace/images/collectedimages/blacktip/blacktip_shark_at_the_stingray_sandbar,_cayman_islands (Original).mp4\\899.xml\n",
      "Image:C:\\Users\\matte\\Documents\\TCDCollege\\4-FourthYear\\CSU44099-FinalYearProject\\Fishnet\\Shark-Species-Identifier\\Tensorflow\\workspace\\images\\collectedimages\\blacktip\\blacktip_shark_at_the_stingray_sandbar,_cayman_islands (Original).mp4\\928.png -> Annotation:C:/Users/matte/Documents/TCDCollege/4-FourthYear/CSU44099-FinalYearProject/Fishnet/Shark-Species-Identifier/Tensorflow/workspace/images/collectedimages/blacktip/blacktip_shark_at_the_stingray_sandbar,_cayman_islands (Original).mp4\\928.xml\n",
      "Image:C:\\Users\\matte\\Documents\\TCDCollege\\4-FourthYear\\CSU44099-FinalYearProject\\Fishnet\\Shark-Species-Identifier\\Tensorflow\\workspace\\images\\collectedimages\\blacktip\\blacktip_shark_at_the_stingray_sandbar,_cayman_islands (Original).mp4\\957.png -> Annotation:C:/Users/matte/Documents/TCDCollege/4-FourthYear/CSU44099-FinalYearProject/Fishnet/Shark-Species-Identifier/Tensorflow/workspace/images/collectedimages/blacktip/blacktip_shark_at_the_stingray_sandbar,_cayman_islands (Original).mp4\\957.xml\n",
      "Image:C:\\Users\\matte\\Documents\\TCDCollege\\4-FourthYear\\CSU44099-FinalYearProject\\Fishnet\\Shark-Species-Identifier\\Tensorflow\\workspace\\images\\collectedimages\\blacktip\\blacktip_shark_at_the_stingray_sandbar,_cayman_islands (Original).mp4\\986.png -> Annotation:C:/Users/matte/Documents/TCDCollege/4-FourthYear/CSU44099-FinalYearProject/Fishnet/Shark-Species-Identifier/Tensorflow/workspace/images/collectedimages/blacktip/blacktip_shark_at_the_stingray_sandbar,_cayman_islands (Original).mp4\\986.xml\n",
      "Image:C:\\Users\\matte\\Documents\\TCDCollege\\4-FourthYear\\CSU44099-FinalYearProject\\Fishnet\\Shark-Species-Identifier\\Tensorflow\\workspace\\images\\collectedimages\\blacktip\\blacktip_shark_at_the_stingray_sandbar,_cayman_islands (Original).mp4\\1015.png -> Annotation:C:/Users/matte/Documents/TCDCollege/4-FourthYear/CSU44099-FinalYearProject/Fishnet/Shark-Species-Identifier/Tensorflow/workspace/images/collectedimages/blacktip/blacktip_shark_at_the_stingray_sandbar,_cayman_islands (Original).mp4\\1015.xml\n",
      "Image:C:\\Users\\matte\\Documents\\TCDCollege\\4-FourthYear\\CSU44099-FinalYearProject\\Fishnet\\Shark-Species-Identifier\\Tensorflow\\workspace\\images\\collectedimages\\blacktip\\blacktip_shark_at_the_stingray_sandbar,_cayman_islands (Original).mp4\\1044.png -> Annotation:C:/Users/matte/Documents/TCDCollege/4-FourthYear/CSU44099-FinalYearProject/Fishnet/Shark-Species-Identifier/Tensorflow/workspace/images/collectedimages/blacktip/blacktip_shark_at_the_stingray_sandbar,_cayman_islands (Original).mp4\\1044.xml\n",
      "Image:C:\\Users\\matte\\Documents\\TCDCollege\\4-FourthYear\\CSU44099-FinalYearProject\\Fishnet\\Shark-Species-Identifier\\Tensorflow\\workspace\\images\\collectedimages\\blacktip\\blacktip_shark_at_the_stingray_sandbar,_cayman_islands (Original).mp4\\1073.png -> Annotation:C:/Users/matte/Documents/TCDCollege/4-FourthYear/CSU44099-FinalYearProject/Fishnet/Shark-Species-Identifier/Tensorflow/workspace/images/collectedimages/blacktip/blacktip_shark_at_the_stingray_sandbar,_cayman_islands (Original).mp4\\1073.xml\n",
      "Image:C:\\Users\\matte\\Documents\\TCDCollege\\4-FourthYear\\CSU44099-FinalYearProject\\Fishnet\\Shark-Species-Identifier\\Tensorflow\\workspace\\images\\collectedimages\\blacktip\\blacktip_shark_at_the_stingray_sandbar,_cayman_islands (Original).mp4\\1160.png -> Annotation:C:/Users/matte/Documents/TCDCollege/4-FourthYear/CSU44099-FinalYearProject/Fishnet/Shark-Species-Identifier/Tensorflow/workspace/images/collectedimages/blacktip/blacktip_shark_at_the_stingray_sandbar,_cayman_islands (Original).mp4\\1160.xml\n",
      "Image:C:\\Users\\matte\\Documents\\TCDCollege\\4-FourthYear\\CSU44099-FinalYearProject\\Fishnet\\Shark-Species-Identifier\\Tensorflow\\workspace\\images\\collectedimages\\blacktip\\blacktip_shark_at_the_stingray_sandbar,_cayman_islands (Original).mp4\\1189.png -> Annotation:C:/Users/matte/Documents/TCDCollege/4-FourthYear/CSU44099-FinalYearProject/Fishnet/Shark-Species-Identifier/Tensorflow/workspace/images/collectedimages/blacktip/blacktip_shark_at_the_stingray_sandbar,_cayman_islands (Original).mp4\\1189.xml\n",
      "Image:C:\\Users\\matte\\Documents\\TCDCollege\\4-FourthYear\\CSU44099-FinalYearProject\\Fishnet\\Shark-Species-Identifier\\Tensorflow\\workspace\\images\\collectedimages\\blacktip\\blacktip_shark_at_the_stingray_sandbar,_cayman_islands (Original).mp4\\1218.png -> Annotation:C:/Users/matte/Documents/TCDCollege/4-FourthYear/CSU44099-FinalYearProject/Fishnet/Shark-Species-Identifier/Tensorflow/workspace/images/collectedimages/blacktip/blacktip_shark_at_the_stingray_sandbar,_cayman_islands (Original).mp4\\1218.xml\n",
      "Image:C:\\Users\\matte\\Documents\\TCDCollege\\4-FourthYear\\CSU44099-FinalYearProject\\Fishnet\\Shark-Species-Identifier\\Tensorflow\\workspace\\images\\collectedimages\\blacktip\\blacktip_shark_at_the_stingray_sandbar,_cayman_islands (Original).mp4\\1247.png -> Annotation:C:/Users/matte/Documents/TCDCollege/4-FourthYear/CSU44099-FinalYearProject/Fishnet/Shark-Species-Identifier/Tensorflow/workspace/images/collectedimages/blacktip/blacktip_shark_at_the_stingray_sandbar,_cayman_islands (Original).mp4\\1247.xml\n",
      "Image:C:\\Users\\matte\\Documents\\TCDCollege\\4-FourthYear\\CSU44099-FinalYearProject\\Fishnet\\Shark-Species-Identifier\\Tensorflow\\workspace\\images\\collectedimages\\blacktip\\blacktip_shark_at_the_stingray_sandbar,_cayman_islands (Original).mp4\\1276.png -> Annotation:C:/Users/matte/Documents/TCDCollege/4-FourthYear/CSU44099-FinalYearProject/Fishnet/Shark-Species-Identifier/Tensorflow/workspace/images/collectedimages/blacktip/blacktip_shark_at_the_stingray_sandbar,_cayman_islands (Original).mp4\\1276.xml\n",
      "Image:C:\\Users\\matte\\Documents\\TCDCollege\\4-FourthYear\\CSU44099-FinalYearProject\\Fishnet\\Shark-Species-Identifier\\Tensorflow\\workspace\\images\\collectedimages\\blacktip\\blacktip_shark_at_the_stingray_sandbar,_cayman_islands (Original).mp4\\1305.png -> Annotation:C:/Users/matte/Documents/TCDCollege/4-FourthYear/CSU44099-FinalYearProject/Fishnet/Shark-Species-Identifier/Tensorflow/workspace/images/collectedimages/blacktip/blacktip_shark_at_the_stingray_sandbar,_cayman_islands (Original).mp4\\1305.xml\n",
      "Image:C:\\Users\\matte\\Documents\\TCDCollege\\4-FourthYear\\CSU44099-FinalYearProject\\Fishnet\\Shark-Species-Identifier\\Tensorflow\\workspace\\images\\collectedimages\\blacktip\\blacktip_shark_at_the_stingray_sandbar,_cayman_islands (Original).mp4\\1334.png -> Annotation:C:/Users/matte/Documents/TCDCollege/4-FourthYear/CSU44099-FinalYearProject/Fishnet/Shark-Species-Identifier/Tensorflow/workspace/images/collectedimages/blacktip/blacktip_shark_at_the_stingray_sandbar,_cayman_islands (Original).mp4\\1334.xml\n",
      "Image:C:\\Users\\matte\\Documents\\TCDCollege\\4-FourthYear\\CSU44099-FinalYearProject\\Fishnet\\Shark-Species-Identifier\\Tensorflow\\workspace\\images\\collectedimages\\blacktip\\blacktip_shark_at_the_stingray_sandbar,_cayman_islands (Original).mp4\\1363.png -> Annotation:C:/Users/matte/Documents/TCDCollege/4-FourthYear/CSU44099-FinalYearProject/Fishnet/Shark-Species-Identifier/Tensorflow/workspace/images/collectedimages/blacktip/blacktip_shark_at_the_stingray_sandbar,_cayman_islands (Original).mp4\\1363.xml\n",
      "Image:C:\\Users\\matte\\Documents\\TCDCollege\\4-FourthYear\\CSU44099-FinalYearProject\\Fishnet\\Shark-Species-Identifier\\Tensorflow\\workspace\\images\\collectedimages\\blacktip\\blacktip_shark_at_the_stingray_sandbar,_cayman_islands (Original).mp4\\1392.png -> Annotation:C:/Users/matte/Documents/TCDCollege/4-FourthYear/CSU44099-FinalYearProject/Fishnet/Shark-Species-Identifier/Tensorflow/workspace/images/collectedimages/blacktip/blacktip_shark_at_the_stingray_sandbar,_cayman_islands (Original).mp4\\1392.xml\n",
      "Image:C:\\Users\\matte\\Documents\\TCDCollege\\4-FourthYear\\CSU44099-FinalYearProject\\Fishnet\\Shark-Species-Identifier\\Tensorflow\\workspace\\images\\collectedimages\\blacktip\\blacktip_shark_at_the_stingray_sandbar,_cayman_islands (Original).mp4\\1421.png -> Annotation:C:/Users/matte/Documents/TCDCollege/4-FourthYear/CSU44099-FinalYearProject/Fishnet/Shark-Species-Identifier/Tensorflow/workspace/images/collectedimages/blacktip/blacktip_shark_at_the_stingray_sandbar,_cayman_islands (Original).mp4\\1421.xml\n",
      "Image:C:\\Users\\matte\\Documents\\TCDCollege\\4-FourthYear\\CSU44099-FinalYearProject\\Fishnet\\Shark-Species-Identifier\\Tensorflow\\workspace\\images\\collectedimages\\blacktip\\blacktip_shark_at_the_stingray_sandbar,_cayman_islands (Original).mp4\\1450.png -> Annotation:C:/Users/matte/Documents/TCDCollege/4-FourthYear/CSU44099-FinalYearProject/Fishnet/Shark-Species-Identifier/Tensorflow/workspace/images/collectedimages/blacktip/blacktip_shark_at_the_stingray_sandbar,_cayman_islands (Original).mp4\\1450.xml\n",
      "Image:C:\\Users\\matte\\Documents\\TCDCollege\\4-FourthYear\\CSU44099-FinalYearProject\\Fishnet\\Shark-Species-Identifier\\Tensorflow\\workspace\\images\\collectedimages\\blacktip\\blacktip_shark_at_the_stingray_sandbar,_cayman_islands (Original).mp4\\1479.png -> Annotation:C:/Users/matte/Documents/TCDCollege/4-FourthYear/CSU44099-FinalYearProject/Fishnet/Shark-Species-Identifier/Tensorflow/workspace/images/collectedimages/blacktip/blacktip_shark_at_the_stingray_sandbar,_cayman_islands (Original).mp4\\1479.xml\n",
      "Image:C:\\Users\\matte\\Documents\\TCDCollege\\4-FourthYear\\CSU44099-FinalYearProject\\Fishnet\\Shark-Species-Identifier\\Tensorflow\\workspace\\images\\collectedimages\\blacktip\\blacktip_shark_at_the_stingray_sandbar,_cayman_islands (Original).mp4\\1508.png -> Annotation:C:/Users/matte/Documents/TCDCollege/4-FourthYear/CSU44099-FinalYearProject/Fishnet/Shark-Species-Identifier/Tensorflow/workspace/images/collectedimages/blacktip/blacktip_shark_at_the_stingray_sandbar,_cayman_islands (Original).mp4\\1508.xml\n",
      "Image:C:\\Users\\matte\\Documents\\TCDCollege\\4-FourthYear\\CSU44099-FinalYearProject\\Fishnet\\Shark-Species-Identifier\\Tensorflow\\workspace\\images\\collectedimages\\blacktip\\blacktip_shark_at_the_stingray_sandbar,_cayman_islands (Original).mp4\\1537.png -> Annotation:C:/Users/matte/Documents/TCDCollege/4-FourthYear/CSU44099-FinalYearProject/Fishnet/Shark-Species-Identifier/Tensorflow/workspace/images/collectedimages/blacktip/blacktip_shark_at_the_stingray_sandbar,_cayman_islands (Original).mp4\\1537.xml\n",
      "Cancel creation.\n",
      "Image:C:\\Users\\matte\\Documents\\TCDCollege\\4-FourthYear\\CSU44099-FinalYearProject\\Fishnet\\Shark-Species-Identifier\\Tensorflow\\workspace\\images\\collectedimages\\blacktip\\blacktip_shark_at_the_stingray_sandbar,_cayman_islands (Original).mp4\\1566.png -> Annotation:C:/Users/matte/Documents/TCDCollege/4-FourthYear/CSU44099-FinalYearProject/Fishnet/Shark-Species-Identifier/Tensorflow/workspace/images/collectedimages/blacktip/blacktip_shark_at_the_stingray_sandbar,_cayman_islands (Original).mp4\\1566.xml\n",
      "Image:C:\\Users\\matte\\Documents\\TCDCollege\\4-FourthYear\\CSU44099-FinalYearProject\\Fishnet\\Shark-Species-Identifier\\Tensorflow\\workspace\\images\\collectedimages\\blacktip\\blacktip_shark_at_the_stingray_sandbar,_cayman_islands (Original).mp4\\1595.png -> Annotation:C:/Users/matte/Documents/TCDCollege/4-FourthYear/CSU44099-FinalYearProject/Fishnet/Shark-Species-Identifier/Tensorflow/workspace/images/collectedimages/blacktip/blacktip_shark_at_the_stingray_sandbar,_cayman_islands (Original).mp4\\1595.xml\n",
      "Cancel creation.\n",
      "Image:C:\\Users\\matte\\Documents\\TCDCollege\\4-FourthYear\\CSU44099-FinalYearProject\\Fishnet\\Shark-Species-Identifier\\Tensorflow\\workspace\\images\\collectedimages\\blacktip\\blacktip_shark_at_the_stingray_sandbar,_cayman_islands (Original).mp4\\1624.png -> Annotation:C:/Users/matte/Documents/TCDCollege/4-FourthYear/CSU44099-FinalYearProject/Fishnet/Shark-Species-Identifier/Tensorflow/workspace/images/collectedimages/blacktip/blacktip_shark_at_the_stingray_sandbar,_cayman_islands (Original).mp4\\1624.xml\n",
      "Image:C:\\Users\\matte\\Documents\\TCDCollege\\4-FourthYear\\CSU44099-FinalYearProject\\Fishnet\\Shark-Species-Identifier\\Tensorflow\\workspace\\images\\collectedimages\\nurse\\324149182.mp4\\29.png -> Annotation:C:/Users/matte/Documents/TCDCollege/4-FourthYear/CSU44099-FinalYearProject/Fishnet/Shark-Species-Identifier/Tensorflow/workspace/images/collectedimages/nurse/324149182.mp4\\29.xml\n",
      "Image:C:\\Users\\matte\\Documents\\TCDCollege\\4-FourthYear\\CSU44099-FinalYearProject\\Fishnet\\Shark-Species-Identifier\\Tensorflow\\workspace\\images\\collectedimages\\nurse\\324149182.mp4\\203.png -> Annotation:C:/Users/matte/Documents/TCDCollege/4-FourthYear/CSU44099-FinalYearProject/Fishnet/Shark-Species-Identifier/Tensorflow/workspace/images/collectedimages/nurse/324149182.mp4\\203.xml\n",
      "Image:C:\\Users\\matte\\Documents\\TCDCollege\\4-FourthYear\\CSU44099-FinalYearProject\\Fishnet\\Shark-Species-Identifier\\Tensorflow\\workspace\\images\\collectedimages\\nurse\\324149182.mp4\\203.png -> Annotation:C:/Users/matte/Documents/TCDCollege/4-FourthYear/CSU44099-FinalYearProject/Fishnet/Shark-Species-Identifier/Tensorflow/workspace/images/collectedimages/nurse/324149182.mp4\\203.xml\n",
      "Image:C:\\Users\\matte\\Documents\\TCDCollege\\4-FourthYear\\CSU44099-FinalYearProject\\Fishnet\\Shark-Species-Identifier\\Tensorflow\\workspace\\images\\collectedimages\\nurse\\324149182.mp4\\232.png -> Annotation:C:/Users/matte/Documents/TCDCollege/4-FourthYear/CSU44099-FinalYearProject/Fishnet/Shark-Species-Identifier/Tensorflow/workspace/images/collectedimages/nurse/324149182.mp4\\232.xml\n",
      "Image:C:\\Users\\matte\\Documents\\TCDCollege\\4-FourthYear\\CSU44099-FinalYearProject\\Fishnet\\Shark-Species-Identifier\\Tensorflow\\workspace\\images\\collectedimages\\nurse\\324149182.mp4\\232.png -> Annotation:C:/Users/matte/Documents/TCDCollege/4-FourthYear/CSU44099-FinalYearProject/Fishnet/Shark-Species-Identifier/Tensorflow/workspace/images/collectedimages/nurse/324149182.mp4\\232.xml\n",
      "Cancel creation.\n",
      "Image:C:\\Users\\matte\\Documents\\TCDCollege\\4-FourthYear\\CSU44099-FinalYearProject\\Fishnet\\Shark-Species-Identifier\\Tensorflow\\workspace\\images\\collectedimages\\nurse\\324149182.mp4\\232.png -> Annotation:C:/Users/matte/Documents/TCDCollege/4-FourthYear/CSU44099-FinalYearProject/Fishnet/Shark-Species-Identifier/Tensorflow/workspace/images/collectedimages/nurse/324149182.mp4\\232.xml\n",
      "Image:C:\\Users\\matte\\Documents\\TCDCollege\\4-FourthYear\\CSU44099-FinalYearProject\\Fishnet\\Shark-Species-Identifier\\Tensorflow\\workspace\\images\\collectedimages\\nurse\\324149182.mp4\\261.png -> Annotation:C:/Users/matte/Documents/TCDCollege/4-FourthYear/CSU44099-FinalYearProject/Fishnet/Shark-Species-Identifier/Tensorflow/workspace/images/collectedimages/nurse/324149182.mp4\\261.xml\n",
      "Image:C:\\Users\\matte\\Documents\\TCDCollege\\4-FourthYear\\CSU44099-FinalYearProject\\Fishnet\\Shark-Species-Identifier\\Tensorflow\\workspace\\images\\collectedimages\\nurse\\324149182.mp4\\261.png -> Annotation:C:/Users/matte/Documents/TCDCollege/4-FourthYear/CSU44099-FinalYearProject/Fishnet/Shark-Species-Identifier/Tensorflow/workspace/images/collectedimages/nurse/324149182.mp4\\261.xml\n",
      "Image:C:\\Users\\matte\\Documents\\TCDCollege\\4-FourthYear\\CSU44099-FinalYearProject\\Fishnet\\Shark-Species-Identifier\\Tensorflow\\workspace\\images\\collectedimages\\nurse\\324149182.mp4\\290.png -> Annotation:C:/Users/matte/Documents/TCDCollege/4-FourthYear/CSU44099-FinalYearProject/Fishnet/Shark-Species-Identifier/Tensorflow/workspace/images/collectedimages/nurse/324149182.mp4\\290.xml\n",
      "Image:C:\\Users\\matte\\Documents\\TCDCollege\\4-FourthYear\\CSU44099-FinalYearProject\\Fishnet\\Shark-Species-Identifier\\Tensorflow\\workspace\\images\\collectedimages\\nurse\\324149182.mp4\\290.png -> Annotation:C:/Users/matte/Documents/TCDCollege/4-FourthYear/CSU44099-FinalYearProject/Fishnet/Shark-Species-Identifier/Tensorflow/workspace/images/collectedimages/nurse/324149182.mp4\\290.xml\n",
      "Image:C:\\Users\\matte\\Documents\\TCDCollege\\4-FourthYear\\CSU44099-FinalYearProject\\Fishnet\\Shark-Species-Identifier\\Tensorflow\\workspace\\images\\collectedimages\\nurse\\324149182.mp4\\319.png -> Annotation:C:/Users/matte/Documents/TCDCollege/4-FourthYear/CSU44099-FinalYearProject/Fishnet/Shark-Species-Identifier/Tensorflow/workspace/images/collectedimages/nurse/324149182.mp4\\319.xml\n",
      "Image:C:\\Users\\matte\\Documents\\TCDCollege\\4-FourthYear\\CSU44099-FinalYearProject\\Fishnet\\Shark-Species-Identifier\\Tensorflow\\workspace\\images\\collectedimages\\nurse\\324149182.mp4\\319.png -> Annotation:C:/Users/matte/Documents/TCDCollege/4-FourthYear/CSU44099-FinalYearProject/Fishnet/Shark-Species-Identifier/Tensorflow/workspace/images/collectedimages/nurse/324149182.mp4\\319.xml\n",
      "Image:C:\\Users\\matte\\Documents\\TCDCollege\\4-FourthYear\\CSU44099-FinalYearProject\\Fishnet\\Shark-Species-Identifier\\Tensorflow\\workspace\\images\\collectedimages\\nurse\\324149182.mp4\\319.png -> Annotation:C:/Users/matte/Documents/TCDCollege/4-FourthYear/CSU44099-FinalYearProject/Fishnet/Shark-Species-Identifier/Tensorflow/workspace/images/collectedimages/nurse/324149182.mp4\\319.xml\n",
      "Cancel creation.\n",
      "Image:C:\\Users\\matte\\Documents\\TCDCollege\\4-FourthYear\\CSU44099-FinalYearProject\\Fishnet\\Shark-Species-Identifier\\Tensorflow\\workspace\\images\\collectedimages\\nurse\\324149182.mp4\\348.png -> Annotation:C:/Users/matte/Documents/TCDCollege/4-FourthYear/CSU44099-FinalYearProject/Fishnet/Shark-Species-Identifier/Tensorflow/workspace/images/collectedimages/nurse/324149182.mp4\\348.xml\n",
      "Image:C:\\Users\\matte\\Documents\\TCDCollege\\4-FourthYear\\CSU44099-FinalYearProject\\Fishnet\\Shark-Species-Identifier\\Tensorflow\\workspace\\images\\collectedimages\\nurse\\324149182.mp4\\348.png -> Annotation:C:/Users/matte/Documents/TCDCollege/4-FourthYear/CSU44099-FinalYearProject/Fishnet/Shark-Species-Identifier/Tensorflow/workspace/images/collectedimages/nurse/324149182.mp4\\348.xml\n",
      "Image:C:\\Users\\matte\\Documents\\TCDCollege\\4-FourthYear\\CSU44099-FinalYearProject\\Fishnet\\Shark-Species-Identifier\\Tensorflow\\workspace\\images\\collectedimages\\nurse\\324149182.mp4\\377.png -> Annotation:C:/Users/matte/Documents/TCDCollege/4-FourthYear/CSU44099-FinalYearProject/Fishnet/Shark-Species-Identifier/Tensorflow/workspace/images/collectedimages/nurse/324149182.mp4\\377.xml\n",
      "Image:C:\\Users\\matte\\Documents\\TCDCollege\\4-FourthYear\\CSU44099-FinalYearProject\\Fishnet\\Shark-Species-Identifier\\Tensorflow\\workspace\\images\\collectedimages\\nurse\\324149182.mp4\\377.png -> Annotation:C:/Users/matte/Documents/TCDCollege/4-FourthYear/CSU44099-FinalYearProject/Fishnet/Shark-Species-Identifier/Tensorflow/workspace/images/collectedimages/nurse/324149182.mp4\\377.xml\n",
      "Image:C:\\Users\\matte\\Documents\\TCDCollege\\4-FourthYear\\CSU44099-FinalYearProject\\Fishnet\\Shark-Species-Identifier\\Tensorflow\\workspace\\images\\collectedimages\\nurse\\324149182.mp4\\377.png -> Annotation:C:/Users/matte/Documents/TCDCollege/4-FourthYear/CSU44099-FinalYearProject/Fishnet/Shark-Species-Identifier/Tensorflow/workspace/images/collectedimages/nurse/324149182.mp4\\377.xml\n",
      "Image:C:\\Users\\matte\\Documents\\TCDCollege\\4-FourthYear\\CSU44099-FinalYearProject\\Fishnet\\Shark-Species-Identifier\\Tensorflow\\workspace\\images\\collectedimages\\nurse\\324149182.mp4\\377.png -> Annotation:C:/Users/matte/Documents/TCDCollege/4-FourthYear/CSU44099-FinalYearProject/Fishnet/Shark-Species-Identifier/Tensorflow/workspace/images/collectedimages/nurse/324149182.mp4\\377.xml\n",
      "Image:C:\\Users\\matte\\Documents\\TCDCollege\\4-FourthYear\\CSU44099-FinalYearProject\\Fishnet\\Shark-Species-Identifier\\Tensorflow\\workspace\\images\\collectedimages\\nurse\\324149182.mp4\\406.png -> Annotation:C:/Users/matte/Documents/TCDCollege/4-FourthYear/CSU44099-FinalYearProject/Fishnet/Shark-Species-Identifier/Tensorflow/workspace/images/collectedimages/nurse/324149182.mp4\\406.xml\n",
      "Image:C:\\Users\\matte\\Documents\\TCDCollege\\4-FourthYear\\CSU44099-FinalYearProject\\Fishnet\\Shark-Species-Identifier\\Tensorflow\\workspace\\images\\collectedimages\\nurse\\324149182.mp4\\406.png -> Annotation:C:/Users/matte/Documents/TCDCollege/4-FourthYear/CSU44099-FinalYearProject/Fishnet/Shark-Species-Identifier/Tensorflow/workspace/images/collectedimages/nurse/324149182.mp4\\406.xml\n",
      "Image:C:\\Users\\matte\\Documents\\TCDCollege\\4-FourthYear\\CSU44099-FinalYearProject\\Fishnet\\Shark-Species-Identifier\\Tensorflow\\workspace\\images\\collectedimages\\nurse\\324149182.mp4\\406.png -> Annotation:C:/Users/matte/Documents/TCDCollege/4-FourthYear/CSU44099-FinalYearProject/Fishnet/Shark-Species-Identifier/Tensorflow/workspace/images/collectedimages/nurse/324149182.mp4\\406.xml\n",
      "Image:C:\\Users\\matte\\Documents\\TCDCollege\\4-FourthYear\\CSU44099-FinalYearProject\\Fishnet\\Shark-Species-Identifier\\Tensorflow\\workspace\\images\\collectedimages\\nurse\\324149182.mp4\\435.png -> Annotation:C:/Users/matte/Documents/TCDCollege/4-FourthYear/CSU44099-FinalYearProject/Fishnet/Shark-Species-Identifier/Tensorflow/workspace/images/collectedimages/nurse/324149182.mp4\\435.xml\n",
      "Image:C:\\Users\\matte\\Documents\\TCDCollege\\4-FourthYear\\CSU44099-FinalYearProject\\Fishnet\\Shark-Species-Identifier\\Tensorflow\\workspace\\images\\collectedimages\\nurse\\324149182.mp4\\435.png -> Annotation:C:/Users/matte/Documents/TCDCollege/4-FourthYear/CSU44099-FinalYearProject/Fishnet/Shark-Species-Identifier/Tensorflow/workspace/images/collectedimages/nurse/324149182.mp4\\435.xml\n",
      "Image:C:\\Users\\matte\\Documents\\TCDCollege\\4-FourthYear\\CSU44099-FinalYearProject\\Fishnet\\Shark-Species-Identifier\\Tensorflow\\workspace\\images\\collectedimages\\nurse\\324149182.mp4\\464.png -> Annotation:C:/Users/matte/Documents/TCDCollege/4-FourthYear/CSU44099-FinalYearProject/Fishnet/Shark-Species-Identifier/Tensorflow/workspace/images/collectedimages/nurse/324149182.mp4\\464.xml\n",
      "Image:C:\\Users\\matte\\Documents\\TCDCollege\\4-FourthYear\\CSU44099-FinalYearProject\\Fishnet\\Shark-Species-Identifier\\Tensorflow\\workspace\\images\\collectedimages\\nurse\\324149182.mp4\\464.png -> Annotation:C:/Users/matte/Documents/TCDCollege/4-FourthYear/CSU44099-FinalYearProject/Fishnet/Shark-Species-Identifier/Tensorflow/workspace/images/collectedimages/nurse/324149182.mp4\\464.xml\n",
      "Cancel creation.\n",
      "Image:C:\\Users\\matte\\Documents\\TCDCollege\\4-FourthYear\\CSU44099-FinalYearProject\\Fishnet\\Shark-Species-Identifier\\Tensorflow\\workspace\\images\\collectedimages\\nurse\\306306689_216189597399985_7622094169940998535_n.mp4\\29.png -> Annotation:C:/Users/matte/Documents/TCDCollege/4-FourthYear/CSU44099-FinalYearProject/Fishnet/Shark-Species-Identifier/Tensorflow/workspace/images/collectedimages/nurse/306306689_216189597399985_7622094169940998535_n.mp4\\29.xml\n",
      "Image:C:\\Users\\matte\\Documents\\TCDCollege\\4-FourthYear\\CSU44099-FinalYearProject\\Fishnet\\Shark-Species-Identifier\\Tensorflow\\workspace\\images\\collectedimages\\nurse\\306306689_216189597399985_7622094169940998535_n.mp4\\58.png -> Annotation:C:/Users/matte/Documents/TCDCollege/4-FourthYear/CSU44099-FinalYearProject/Fishnet/Shark-Species-Identifier/Tensorflow/workspace/images/collectedimages/nurse/306306689_216189597399985_7622094169940998535_n.mp4\\58.xml\n",
      "Image:C:\\Users\\matte\\Documents\\TCDCollege\\4-FourthYear\\CSU44099-FinalYearProject\\Fishnet\\Shark-Species-Identifier\\Tensorflow\\workspace\\images\\collectedimages\\nurse\\306306689_216189597399985_7622094169940998535_n.mp4\\87.png -> Annotation:C:/Users/matte/Documents/TCDCollege/4-FourthYear/CSU44099-FinalYearProject/Fishnet/Shark-Species-Identifier/Tensorflow/workspace/images/collectedimages/nurse/306306689_216189597399985_7622094169940998535_n.mp4\\87.xml\n",
      "Image:C:\\Users\\matte\\Documents\\TCDCollege\\4-FourthYear\\CSU44099-FinalYearProject\\Fishnet\\Shark-Species-Identifier\\Tensorflow\\workspace\\images\\collectedimages\\nurse\\306306689_216189597399985_7622094169940998535_n.mp4\\116.png -> Annotation:C:/Users/matte/Documents/TCDCollege/4-FourthYear/CSU44099-FinalYearProject/Fishnet/Shark-Species-Identifier/Tensorflow/workspace/images/collectedimages/nurse/306306689_216189597399985_7622094169940998535_n.mp4\\116.xml\n",
      "Image:C:\\Users\\matte\\Documents\\TCDCollege\\4-FourthYear\\CSU44099-FinalYearProject\\Fishnet\\Shark-Species-Identifier\\Tensorflow\\workspace\\images\\collectedimages\\nurse\\306306689_216189597399985_7622094169940998535_n.mp4\\174.png -> Annotation:C:/Users/matte/Documents/TCDCollege/4-FourthYear/CSU44099-FinalYearProject/Fishnet/Shark-Species-Identifier/Tensorflow/workspace/images/collectedimages/nurse/306306689_216189597399985_7622094169940998535_n.mp4\\174.xml\n",
      "Cancel creation.\n",
      "Image:C:\\Users\\matte\\Documents\\TCDCollege\\4-FourthYear\\CSU44099-FinalYearProject\\Fishnet\\Shark-Species-Identifier\\Tensorflow\\workspace\\images\\collectedimages\\nurse\\306306689_216189597399985_7622094169940998535_n.mp4\\232.png -> Annotation:C:/Users/matte/Documents/TCDCollege/4-FourthYear/CSU44099-FinalYearProject/Fishnet/Shark-Species-Identifier/Tensorflow/workspace/images/collectedimages/nurse/306306689_216189597399985_7622094169940998535_n.mp4\\232.xml\n",
      "Image:C:\\Users\\matte\\Documents\\TCDCollege\\4-FourthYear\\CSU44099-FinalYearProject\\Fishnet\\Shark-Species-Identifier\\Tensorflow\\workspace\\images\\collectedimages\\nurse\\306306689_216189597399985_7622094169940998535_n.mp4\\261.png -> Annotation:C:/Users/matte/Documents/TCDCollege/4-FourthYear/CSU44099-FinalYearProject/Fishnet/Shark-Species-Identifier/Tensorflow/workspace/images/collectedimages/nurse/306306689_216189597399985_7622094169940998535_n.mp4\\261.xml\n",
      "Image:C:\\Users\\matte\\Documents\\TCDCollege\\4-FourthYear\\CSU44099-FinalYearProject\\Fishnet\\Shark-Species-Identifier\\Tensorflow\\workspace\\images\\collectedimages\\nurse\\306306689_216189597399985_7622094169940998535_n.mp4\\319.png -> Annotation:C:/Users/matte/Documents/TCDCollege/4-FourthYear/CSU44099-FinalYearProject/Fishnet/Shark-Species-Identifier/Tensorflow/workspace/images/collectedimages/nurse/306306689_216189597399985_7622094169940998535_n.mp4\\319.xml\n",
      "Image:C:\\Users\\matte\\Documents\\TCDCollege\\4-FourthYear\\CSU44099-FinalYearProject\\Fishnet\\Shark-Species-Identifier\\Tensorflow\\workspace\\images\\collectedimages\\nurse\\306306689_216189597399985_7622094169940998535_n.mp4\\348.png -> Annotation:C:/Users/matte/Documents/TCDCollege/4-FourthYear/CSU44099-FinalYearProject/Fishnet/Shark-Species-Identifier/Tensorflow/workspace/images/collectedimages/nurse/306306689_216189597399985_7622094169940998535_n.mp4\\348.xml\n",
      "Image:C:\\Users\\matte\\Documents\\TCDCollege\\4-FourthYear\\CSU44099-FinalYearProject\\Fishnet\\Shark-Species-Identifier\\Tensorflow\\workspace\\images\\collectedimages\\nurse\\306306689_216189597399985_7622094169940998535_n.mp4\\377.png -> Annotation:C:/Users/matte/Documents/TCDCollege/4-FourthYear/CSU44099-FinalYearProject/Fishnet/Shark-Species-Identifier/Tensorflow/workspace/images/collectedimages/nurse/306306689_216189597399985_7622094169940998535_n.mp4\\377.xml\n",
      "Image:C:\\Users\\matte\\Documents\\TCDCollege\\4-FourthYear\\CSU44099-FinalYearProject\\Fishnet\\Shark-Species-Identifier\\Tensorflow\\workspace\\images\\collectedimages\\nurse\\306306689_216189597399985_7622094169940998535_n.mp4\\406.png -> Annotation:C:/Users/matte/Documents/TCDCollege/4-FourthYear/CSU44099-FinalYearProject/Fishnet/Shark-Species-Identifier/Tensorflow/workspace/images/collectedimages/nurse/306306689_216189597399985_7622094169940998535_n.mp4\\406.xml\n",
      "Image:C:\\Users\\matte\\Documents\\TCDCollege\\4-FourthYear\\CSU44099-FinalYearProject\\Fishnet\\Shark-Species-Identifier\\Tensorflow\\workspace\\images\\collectedimages\\nurse\\306306689_216189597399985_7622094169940998535_n.mp4\\435.png -> Annotation:C:/Users/matte/Documents/TCDCollege/4-FourthYear/CSU44099-FinalYearProject/Fishnet/Shark-Species-Identifier/Tensorflow/workspace/images/collectedimages/nurse/306306689_216189597399985_7622094169940998535_n.mp4\\435.xml\n",
      "Image:C:\\Users\\matte\\Documents\\TCDCollege\\4-FourthYear\\CSU44099-FinalYearProject\\Fishnet\\Shark-Species-Identifier\\Tensorflow\\workspace\\images\\collectedimages\\nurse\\306306689_216189597399985_7622094169940998535_n.mp4\\464.png -> Annotation:C:/Users/matte/Documents/TCDCollege/4-FourthYear/CSU44099-FinalYearProject/Fishnet/Shark-Species-Identifier/Tensorflow/workspace/images/collectedimages/nurse/306306689_216189597399985_7622094169940998535_n.mp4\\464.xml\n",
      "Image:C:\\Users\\matte\\Documents\\TCDCollege\\4-FourthYear\\CSU44099-FinalYearProject\\Fishnet\\Shark-Species-Identifier\\Tensorflow\\workspace\\images\\collectedimages\\nurse\\306306689_216189597399985_7622094169940998535_n.mp4\\493.png -> Annotation:C:/Users/matte/Documents/TCDCollege/4-FourthYear/CSU44099-FinalYearProject/Fishnet/Shark-Species-Identifier/Tensorflow/workspace/images/collectedimages/nurse/306306689_216189597399985_7622094169940998535_n.mp4\\493.xml\n",
      "Image:C:\\Users\\matte\\Documents\\TCDCollege\\4-FourthYear\\CSU44099-FinalYearProject\\Fishnet\\Shark-Species-Identifier\\Tensorflow\\workspace\\images\\collectedimages\\nurse\\306306689_216189597399985_7622094169940998535_n.mp4\\522.png -> Annotation:C:/Users/matte/Documents/TCDCollege/4-FourthYear/CSU44099-FinalYearProject/Fishnet/Shark-Species-Identifier/Tensorflow/workspace/images/collectedimages/nurse/306306689_216189597399985_7622094169940998535_n.mp4\\522.xml\n",
      "Image:C:\\Users\\matte\\Documents\\TCDCollege\\4-FourthYear\\CSU44099-FinalYearProject\\Fishnet\\Shark-Species-Identifier\\Tensorflow\\workspace\\images\\collectedimages\\nurse\\306306689_216189597399985_7622094169940998535_n.mp4\\551.png -> Annotation:C:/Users/matte/Documents/TCDCollege/4-FourthYear/CSU44099-FinalYearProject/Fishnet/Shark-Species-Identifier/Tensorflow/workspace/images/collectedimages/nurse/306306689_216189597399985_7622094169940998535_n.mp4\\551.xml\n",
      "Cancel creation.\n",
      "Cancel creation.\n",
      "Cancel creation.\n",
      "Image:C:\\Users\\matte\\Documents\\TCDCollege\\4-FourthYear\\CSU44099-FinalYearProject\\Fishnet\\Shark-Species-Identifier\\Tensorflow\\workspace\\images\\collectedimages\\nurse\\306306689_216189597399985_7622094169940998535_n.mp4\\580.png -> Annotation:C:/Users/matte/Documents/TCDCollege/4-FourthYear/CSU44099-FinalYearProject/Fishnet/Shark-Species-Identifier/Tensorflow/workspace/images/collectedimages/nurse/306306689_216189597399985_7622094169940998535_n.mp4\\580.xml\n",
      "Image:C:\\Users\\matte\\Documents\\TCDCollege\\4-FourthYear\\CSU44099-FinalYearProject\\Fishnet\\Shark-Species-Identifier\\Tensorflow\\workspace\\images\\collectedimages\\tiger\\1-TigerShark.mp4\\377.png -> Annotation:C:/Users/matte/Documents/TCDCollege/4-FourthYear/CSU44099-FinalYearProject/Fishnet/Shark-Species-Identifier/Tensorflow/workspace/images/collectedimages/tiger/1-TigerShark.mp4\\377.xml\n",
      "Image:C:\\Users\\matte\\Documents\\TCDCollege\\4-FourthYear\\CSU44099-FinalYearProject\\Fishnet\\Shark-Species-Identifier\\Tensorflow\\workspace\\images\\collectedimages\\tiger\\1-TigerShark.mp4\\406.png -> Annotation:C:/Users/matte/Documents/TCDCollege/4-FourthYear/CSU44099-FinalYearProject/Fishnet/Shark-Species-Identifier/Tensorflow/workspace/images/collectedimages/tiger/1-TigerShark.mp4\\406.xml\n",
      "Image:C:\\Users\\matte\\Documents\\TCDCollege\\4-FourthYear\\CSU44099-FinalYearProject\\Fishnet\\Shark-Species-Identifier\\Tensorflow\\workspace\\images\\collectedimages\\tiger\\1-TigerShark.mp4\\435.png -> Annotation:C:/Users/matte/Documents/TCDCollege/4-FourthYear/CSU44099-FinalYearProject/Fishnet/Shark-Species-Identifier/Tensorflow/workspace/images/collectedimages/tiger/1-TigerShark.mp4\\435.xml\n",
      "Image:C:\\Users\\matte\\Documents\\TCDCollege\\4-FourthYear\\CSU44099-FinalYearProject\\Fishnet\\Shark-Species-Identifier\\Tensorflow\\workspace\\images\\collectedimages\\tiger\\1-TigerShark.mp4\\464.png -> Annotation:C:/Users/matte/Documents/TCDCollege/4-FourthYear/CSU44099-FinalYearProject/Fishnet/Shark-Species-Identifier/Tensorflow/workspace/images/collectedimages/tiger/1-TigerShark.mp4\\464.xml\n",
      "Cancel creation.\n",
      "Image:C:\\Users\\matte\\Documents\\TCDCollege\\4-FourthYear\\CSU44099-FinalYearProject\\Fishnet\\Shark-Species-Identifier\\Tensorflow\\workspace\\images\\collectedimages\\tiger\\1-TigerShark.mp4\\493.png -> Annotation:C:/Users/matte/Documents/TCDCollege/4-FourthYear/CSU44099-FinalYearProject/Fishnet/Shark-Species-Identifier/Tensorflow/workspace/images/collectedimages/tiger/1-TigerShark.mp4\\493.xml\n",
      "Image:C:\\Users\\matte\\Documents\\TCDCollege\\4-FourthYear\\CSU44099-FinalYearProject\\Fishnet\\Shark-Species-Identifier\\Tensorflow\\workspace\\images\\collectedimages\\tiger\\1-TigerShark.mp4\\522.png -> Annotation:C:/Users/matte/Documents/TCDCollege/4-FourthYear/CSU44099-FinalYearProject/Fishnet/Shark-Species-Identifier/Tensorflow/workspace/images/collectedimages/tiger/1-TigerShark.mp4\\522.xml\n",
      "Image:C:\\Users\\matte\\Documents\\TCDCollege\\4-FourthYear\\CSU44099-FinalYearProject\\Fishnet\\Shark-Species-Identifier\\Tensorflow\\workspace\\images\\collectedimages\\tiger\\1-TigerShark.mp4\\551.png -> Annotation:C:/Users/matte/Documents/TCDCollege/4-FourthYear/CSU44099-FinalYearProject/Fishnet/Shark-Species-Identifier/Tensorflow/workspace/images/collectedimages/tiger/1-TigerShark.mp4\\551.xml\n",
      "Image:C:\\Users\\matte\\Documents\\TCDCollege\\4-FourthYear\\CSU44099-FinalYearProject\\Fishnet\\Shark-Species-Identifier\\Tensorflow\\workspace\\images\\collectedimages\\tiger\\1-TigerShark.mp4\\580.png -> Annotation:C:/Users/matte/Documents/TCDCollege/4-FourthYear/CSU44099-FinalYearProject/Fishnet/Shark-Species-Identifier/Tensorflow/workspace/images/collectedimages/tiger/1-TigerShark.mp4\\580.xml\n",
      "Image:C:\\Users\\matte\\Documents\\TCDCollege\\4-FourthYear\\CSU44099-FinalYearProject\\Fishnet\\Shark-Species-Identifier\\Tensorflow\\workspace\\images\\collectedimages\\tiger\\1-TigerShark.mp4\\609.png -> Annotation:C:/Users/matte/Documents/TCDCollege/4-FourthYear/CSU44099-FinalYearProject/Fishnet/Shark-Species-Identifier/Tensorflow/workspace/images/collectedimages/tiger/1-TigerShark.mp4\\609.xml\n",
      "Cancel creation.\n",
      "Image:C:\\Users\\matte\\Documents\\TCDCollege\\4-FourthYear\\CSU44099-FinalYearProject\\Fishnet\\Shark-Species-Identifier\\Tensorflow\\workspace\\images\\collectedimages\\tiger\\1-TigerShark.mp4\\638.png -> Annotation:C:/Users/matte/Documents/TCDCollege/4-FourthYear/CSU44099-FinalYearProject/Fishnet/Shark-Species-Identifier/Tensorflow/workspace/images/collectedimages/tiger/1-TigerShark.mp4\\638.xml\n",
      "Image:C:\\Users\\matte\\Documents\\TCDCollege\\4-FourthYear\\CSU44099-FinalYearProject\\Fishnet\\Shark-Species-Identifier\\Tensorflow\\workspace\\images\\collectedimages\\tiger\\Tiger Sharks Fight For Survival Trailer.mp4\\319.png -> Annotation:C:/Users/matte/Documents/TCDCollege/4-FourthYear/CSU44099-FinalYearProject/Fishnet/Shark-Species-Identifier/Tensorflow/workspace/images/collectedimages/tiger/Tiger Sharks Fight For Survival Trailer.mp4\\319.xml\n",
      "Image:C:\\Users\\matte\\Documents\\TCDCollege\\4-FourthYear\\CSU44099-FinalYearProject\\Fishnet\\Shark-Species-Identifier\\Tensorflow\\workspace\\images\\collectedimages\\tiger\\Tiger Sharks Fight For Survival Trailer.mp4\\348.png -> Annotation:C:/Users/matte/Documents/TCDCollege/4-FourthYear/CSU44099-FinalYearProject/Fishnet/Shark-Species-Identifier/Tensorflow/workspace/images/collectedimages/tiger/Tiger Sharks Fight For Survival Trailer.mp4\\348.xml\n",
      "Image:C:\\Users\\matte\\Documents\\TCDCollege\\4-FourthYear\\CSU44099-FinalYearProject\\Fishnet\\Shark-Species-Identifier\\Tensorflow\\workspace\\images\\collectedimages\\tiger\\Tiger Sharks Fight For Survival Trailer.mp4\\377.png -> Annotation:C:/Users/matte/Documents/TCDCollege/4-FourthYear/CSU44099-FinalYearProject/Fishnet/Shark-Species-Identifier/Tensorflow/workspace/images/collectedimages/tiger/Tiger Sharks Fight For Survival Trailer.mp4\\377.xml\n",
      "Image:C:\\Users\\matte\\Documents\\TCDCollege\\4-FourthYear\\CSU44099-FinalYearProject\\Fishnet\\Shark-Species-Identifier\\Tensorflow\\workspace\\images\\collectedimages\\tiger\\Tiger Sharks Fight For Survival Trailer.mp4\\406.png -> Annotation:C:/Users/matte/Documents/TCDCollege/4-FourthYear/CSU44099-FinalYearProject/Fishnet/Shark-Species-Identifier/Tensorflow/workspace/images/collectedimages/tiger/Tiger Sharks Fight For Survival Trailer.mp4\\406.xml\n",
      "Image:C:\\Users\\matte\\Documents\\TCDCollege\\4-FourthYear\\CSU44099-FinalYearProject\\Fishnet\\Shark-Species-Identifier\\Tensorflow\\workspace\\images\\collectedimages\\tiger\\Tiger Sharks Fight For Survival Trailer.mp4\\435.png -> Annotation:C:/Users/matte/Documents/TCDCollege/4-FourthYear/CSU44099-FinalYearProject/Fishnet/Shark-Species-Identifier/Tensorflow/workspace/images/collectedimages/tiger/Tiger Sharks Fight For Survival Trailer.mp4\\435.xml\n",
      "Cancel creation.\n",
      "Cancel creation.\n",
      "Cancel creation.\n",
      "Image:C:\\Users\\matte\\Documents\\TCDCollege\\4-FourthYear\\CSU44099-FinalYearProject\\Fishnet\\Shark-Species-Identifier\\Tensorflow\\workspace\\images\\collectedimages\\tiger\\Tiger Sharks Fight For Survival Trailer.mp4\\464.png -> Annotation:C:/Users/matte/Documents/TCDCollege/4-FourthYear/CSU44099-FinalYearProject/Fishnet/Shark-Species-Identifier/Tensorflow/workspace/images/collectedimages/tiger/Tiger Sharks Fight For Survival Trailer.mp4\\464.xml\n",
      "Image:C:\\Users\\matte\\Documents\\TCDCollege\\4-FourthYear\\CSU44099-FinalYearProject\\Fishnet\\Shark-Species-Identifier\\Tensorflow\\workspace\\images\\collectedimages\\tiger\\Tiger Sharks Fight For Survival Trailer.mp4\\493.png -> Annotation:C:/Users/matte/Documents/TCDCollege/4-FourthYear/CSU44099-FinalYearProject/Fishnet/Shark-Species-Identifier/Tensorflow/workspace/images/collectedimages/tiger/Tiger Sharks Fight For Survival Trailer.mp4\\493.xml\n",
      "Image:C:\\Users\\matte\\Documents\\TCDCollege\\4-FourthYear\\CSU44099-FinalYearProject\\Fishnet\\Shark-Species-Identifier\\Tensorflow\\workspace\\images\\collectedimages\\tiger\\Tiger Sharks Fight For Survival Trailer.mp4\\783.png -> Annotation:C:/Users/matte/Documents/TCDCollege/4-FourthYear/CSU44099-FinalYearProject/Fishnet/Shark-Species-Identifier/Tensorflow/workspace/images/collectedimages/tiger/Tiger Sharks Fight For Survival Trailer.mp4\\783.xml\n",
      "Image:C:\\Users\\matte\\Documents\\TCDCollege\\4-FourthYear\\CSU44099-FinalYearProject\\Fishnet\\Shark-Species-Identifier\\Tensorflow\\workspace\\images\\collectedimages\\tiger\\Tiger Sharks Fight For Survival Trailer.mp4\\812.png -> Annotation:C:/Users/matte/Documents/TCDCollege/4-FourthYear/CSU44099-FinalYearProject/Fishnet/Shark-Species-Identifier/Tensorflow/workspace/images/collectedimages/tiger/Tiger Sharks Fight For Survival Trailer.mp4\\812.xml\n",
      "Image:C:\\Users\\matte\\Documents\\TCDCollege\\4-FourthYear\\CSU44099-FinalYearProject\\Fishnet\\Shark-Species-Identifier\\Tensorflow\\workspace\\images\\collectedimages\\tiger\\Tiger Sharks Fight For Survival Trailer.mp4\\841.png -> Annotation:C:/Users/matte/Documents/TCDCollege/4-FourthYear/CSU44099-FinalYearProject/Fishnet/Shark-Species-Identifier/Tensorflow/workspace/images/collectedimages/tiger/Tiger Sharks Fight For Survival Trailer.mp4\\841.xml\n",
      "Cancel creation.\n",
      "Image:C:\\Users\\matte\\Documents\\TCDCollege\\4-FourthYear\\CSU44099-FinalYearProject\\Fishnet\\Shark-Species-Identifier\\Tensorflow\\workspace\\images\\collectedimages\\tiger\\Tiger Sharks Fight For Survival Trailer.mp4\\870.png -> Annotation:C:/Users/matte/Documents/TCDCollege/4-FourthYear/CSU44099-FinalYearProject/Fishnet/Shark-Species-Identifier/Tensorflow/workspace/images/collectedimages/tiger/Tiger Sharks Fight For Survival Trailer.mp4\\870.xml\n",
      "Image:C:\\Users\\matte\\Documents\\TCDCollege\\4-FourthYear\\CSU44099-FinalYearProject\\Fishnet\\Shark-Species-Identifier\\Tensorflow\\workspace\\images\\collectedimages\\tiger\\Tiger Sharks Fight For Survival Trailer.mp4\\899.png -> Annotation:C:/Users/matte/Documents/TCDCollege/4-FourthYear/CSU44099-FinalYearProject/Fishnet/Shark-Species-Identifier/Tensorflow/workspace/images/collectedimages/tiger/Tiger Sharks Fight For Survival Trailer.mp4\\899.xml\n",
      "Image:C:\\Users\\matte\\Documents\\TCDCollege\\4-FourthYear\\CSU44099-FinalYearProject\\Fishnet\\Shark-Species-Identifier\\Tensorflow\\workspace\\images\\collectedimages\\tiger\\Tiger Sharks Fight For Survival Trailer.mp4\\928.png -> Annotation:C:/Users/matte/Documents/TCDCollege/4-FourthYear/CSU44099-FinalYearProject/Fishnet/Shark-Species-Identifier/Tensorflow/workspace/images/collectedimages/tiger/Tiger Sharks Fight For Survival Trailer.mp4\\928.xml\n",
      "Image:C:\\Users\\matte\\Documents\\TCDCollege\\4-FourthYear\\CSU44099-FinalYearProject\\Fishnet\\Shark-Species-Identifier\\Tensorflow\\workspace\\images\\collectedimages\\tiger\\Tiger Sharks Fight For Survival Trailer.mp4\\957.png -> Annotation:C:/Users/matte/Documents/TCDCollege/4-FourthYear/CSU44099-FinalYearProject/Fishnet/Shark-Species-Identifier/Tensorflow/workspace/images/collectedimages/tiger/Tiger Sharks Fight For Survival Trailer.mp4\\957.xml\n",
      "Cancel creation.\n",
      "Image:C:\\Users\\matte\\Documents\\TCDCollege\\4-FourthYear\\CSU44099-FinalYearProject\\Fishnet\\Shark-Species-Identifier\\Tensorflow\\workspace\\images\\collectedimages\\tiger\\Tiger Sharks Fight For Survival Trailer.mp4\\1044.png -> Annotation:C:/Users/matte/Documents/TCDCollege/4-FourthYear/CSU44099-FinalYearProject/Fishnet/Shark-Species-Identifier/Tensorflow/workspace/images/collectedimages/tiger/Tiger Sharks Fight For Survival Trailer.mp4\\1044.xml\n",
      "Image:C:\\Users\\matte\\Documents\\TCDCollege\\4-FourthYear\\CSU44099-FinalYearProject\\Fishnet\\Shark-Species-Identifier\\Tensorflow\\workspace\\images\\collectedimages\\tiger\\Tiger Sharks Fight For Survival Trailer.mp4\\1073.png -> Annotation:C:/Users/matte/Documents/TCDCollege/4-FourthYear/CSU44099-FinalYearProject/Fishnet/Shark-Species-Identifier/Tensorflow/workspace/images/collectedimages/tiger/Tiger Sharks Fight For Survival Trailer.mp4\\1073.xml\n",
      "Image:C:\\Users\\matte\\Documents\\TCDCollege\\4-FourthYear\\CSU44099-FinalYearProject\\Fishnet\\Shark-Species-Identifier\\Tensorflow\\workspace\\images\\collectedimages\\tiger\\Tiger Sharks Fight For Survival Trailer.mp4\\1073.png -> Annotation:C:/Users/matte/Documents/TCDCollege/4-FourthYear/CSU44099-FinalYearProject/Fishnet/Shark-Species-Identifier/Tensorflow/workspace/images/collectedimages/tiger/Tiger Sharks Fight For Survival Trailer.mp4\\1073.xml\n",
      "Image:C:\\Users\\matte\\Documents\\TCDCollege\\4-FourthYear\\CSU44099-FinalYearProject\\Fishnet\\Shark-Species-Identifier\\Tensorflow\\workspace\\images\\collectedimages\\tiger\\Tiger Sharks Fight For Survival Trailer.mp4\\1073.png -> Annotation:C:/Users/matte/Documents/TCDCollege/4-FourthYear/CSU44099-FinalYearProject/Fishnet/Shark-Species-Identifier/Tensorflow/workspace/images/collectedimages/tiger/Tiger Sharks Fight For Survival Trailer.mp4\\1073.xml\n",
      "Image:C:\\Users\\matte\\Documents\\TCDCollege\\4-FourthYear\\CSU44099-FinalYearProject\\Fishnet\\Shark-Species-Identifier\\Tensorflow\\workspace\\images\\collectedimages\\tiger\\Tiger Sharks Fight For Survival Trailer.mp4\\1102.png -> Annotation:C:/Users/matte/Documents/TCDCollege/4-FourthYear/CSU44099-FinalYearProject/Fishnet/Shark-Species-Identifier/Tensorflow/workspace/images/collectedimages/tiger/Tiger Sharks Fight For Survival Trailer.mp4\\1102.xml\n",
      "Image:C:\\Users\\matte\\Documents\\TCDCollege\\4-FourthYear\\CSU44099-FinalYearProject\\Fishnet\\Shark-Species-Identifier\\Tensorflow\\workspace\\images\\collectedimages\\tiger\\Tiger Sharks Fight For Survival Trailer.mp4\\1102.png -> Annotation:C:/Users/matte/Documents/TCDCollege/4-FourthYear/CSU44099-FinalYearProject/Fishnet/Shark-Species-Identifier/Tensorflow/workspace/images/collectedimages/tiger/Tiger Sharks Fight For Survival Trailer.mp4\\1102.xml\n",
      "Image:C:\\Users\\matte\\Documents\\TCDCollege\\4-FourthYear\\CSU44099-FinalYearProject\\Fishnet\\Shark-Species-Identifier\\Tensorflow\\workspace\\images\\collectedimages\\tiger\\Tiger Sharks Fight For Survival Trailer.mp4\\1102.png -> Annotation:C:/Users/matte/Documents/TCDCollege/4-FourthYear/CSU44099-FinalYearProject/Fishnet/Shark-Species-Identifier/Tensorflow/workspace/images/collectedimages/tiger/Tiger Sharks Fight For Survival Trailer.mp4\\1102.xml\n",
      "Image:C:\\Users\\matte\\Documents\\TCDCollege\\4-FourthYear\\CSU44099-FinalYearProject\\Fishnet\\Shark-Species-Identifier\\Tensorflow\\workspace\\images\\collectedimages\\tiger\\Tiger Sharks Fight For Survival Trailer.mp4\\986.png -> Annotation:C:/Users/matte/Documents/TCDCollege/4-FourthYear/CSU44099-FinalYearProject/Fishnet/Shark-Species-Identifier/Tensorflow/workspace/images/collectedimages/tiger/Tiger Sharks Fight For Survival Trailer.mp4\\986.xml\n",
      "Image:C:\\Users\\matte\\Documents\\TCDCollege\\4-FourthYear\\CSU44099-FinalYearProject\\Fishnet\\Shark-Species-Identifier\\Tensorflow\\workspace\\images\\collectedimages\\tiger\\Tiger Sharks Fight For Survival Trailer.mp4\\1131.png -> Annotation:C:/Users/matte/Documents/TCDCollege/4-FourthYear/CSU44099-FinalYearProject/Fishnet/Shark-Species-Identifier/Tensorflow/workspace/images/collectedimages/tiger/Tiger Sharks Fight For Survival Trailer.mp4\\1131.xml\n",
      "Image:C:\\Users\\matte\\Documents\\TCDCollege\\4-FourthYear\\CSU44099-FinalYearProject\\Fishnet\\Shark-Species-Identifier\\Tensorflow\\workspace\\images\\collectedimages\\tiger\\Tiger Sharks Fight For Survival Trailer.mp4\\1131.png -> Annotation:C:/Users/matte/Documents/TCDCollege/4-FourthYear/CSU44099-FinalYearProject/Fishnet/Shark-Species-Identifier/Tensorflow/workspace/images/collectedimages/tiger/Tiger Sharks Fight For Survival Trailer.mp4\\1131.xml\n",
      "Cancel creation.\n",
      "Cancel creation.\n",
      "Cancel creation.\n",
      "Image:C:\\Users\\matte\\Documents\\TCDCollege\\4-FourthYear\\CSU44099-FinalYearProject\\Fishnet\\Shark-Species-Identifier\\Tensorflow\\workspace\\images\\collectedimages\\tiger\\Tiger Sharks Fight For Survival Trailer.mp4\\1131.png -> Annotation:C:/Users/matte/Documents/TCDCollege/4-FourthYear/CSU44099-FinalYearProject/Fishnet/Shark-Species-Identifier/Tensorflow/workspace/images/collectedimages/tiger/Tiger Sharks Fight For Survival Trailer.mp4\\1131.xml\n",
      "Cancel creation.\n",
      "Image:C:\\Users\\matte\\Documents\\TCDCollege\\4-FourthYear\\CSU44099-FinalYearProject\\Fishnet\\Shark-Species-Identifier\\Tensorflow\\workspace\\images\\collectedimages\\tiger\\Tiger Sharks Fight For Survival Trailer.mp4\\1160.png -> Annotation:C:/Users/matte/Documents/TCDCollege/4-FourthYear/CSU44099-FinalYearProject/Fishnet/Shark-Species-Identifier/Tensorflow/workspace/images/collectedimages/tiger/Tiger Sharks Fight For Survival Trailer.mp4\\1160.xml\n",
      "Image:C:\\Users\\matte\\Documents\\TCDCollege\\4-FourthYear\\CSU44099-FinalYearProject\\Fishnet\\Shark-Species-Identifier\\Tensorflow\\workspace\\images\\collectedimages\\tiger\\Tiger Sharks Fight For Survival Trailer.mp4\\1189.png -> Annotation:C:/Users/matte/Documents/TCDCollege/4-FourthYear/CSU44099-FinalYearProject/Fishnet/Shark-Species-Identifier/Tensorflow/workspace/images/collectedimages/tiger/Tiger Sharks Fight For Survival Trailer.mp4\\1189.xml\n",
      "Image:C:\\Users\\matte\\Documents\\TCDCollege\\4-FourthYear\\CSU44099-FinalYearProject\\Fishnet\\Shark-Species-Identifier\\Tensorflow\\workspace\\images\\collectedimages\\tiger\\Tiger Sharks Fight For Survival Trailer.mp4\\1189.png -> Annotation:C:/Users/matte/Documents/TCDCollege/4-FourthYear/CSU44099-FinalYearProject/Fishnet/Shark-Species-Identifier/Tensorflow/workspace/images/collectedimages/tiger/Tiger Sharks Fight For Survival Trailer.mp4\\1189.xml\n",
      "Image:C:\\Users\\matte\\Documents\\TCDCollege\\4-FourthYear\\CSU44099-FinalYearProject\\Fishnet\\Shark-Species-Identifier\\Tensorflow\\workspace\\images\\collectedimages\\tiger\\Tiger Sharks Fight For Survival Trailer.mp4\\1218.png -> Annotation:C:/Users/matte/Documents/TCDCollege/4-FourthYear/CSU44099-FinalYearProject/Fishnet/Shark-Species-Identifier/Tensorflow/workspace/images/collectedimages/tiger/Tiger Sharks Fight For Survival Trailer.mp4\\1218.xml\n",
      "Cancel creation.\n",
      "Image:C:\\Users\\matte\\Documents\\TCDCollege\\4-FourthYear\\CSU44099-FinalYearProject\\Fishnet\\Shark-Species-Identifier\\Tensorflow\\workspace\\images\\collectedimages\\tiger\\Tiger Sharks Fight For Survival Trailer.mp4\\1305.png -> Annotation:C:/Users/matte/Documents/TCDCollege/4-FourthYear/CSU44099-FinalYearProject/Fishnet/Shark-Species-Identifier/Tensorflow/workspace/images/collectedimages/tiger/Tiger Sharks Fight For Survival Trailer.mp4\\1305.xml\n",
      "Image:C:\\Users\\matte\\Documents\\TCDCollege\\4-FourthYear\\CSU44099-FinalYearProject\\Fishnet\\Shark-Species-Identifier\\Tensorflow\\workspace\\images\\collectedimages\\tiger\\Tiger Sharks Fight For Survival Trailer.mp4\\1334.png -> Annotation:C:/Users/matte/Documents/TCDCollege/4-FourthYear/CSU44099-FinalYearProject/Fishnet/Shark-Species-Identifier/Tensorflow/workspace/images/collectedimages/tiger/Tiger Sharks Fight For Survival Trailer.mp4\\1334.xml\n",
      "Image:C:\\Users\\matte\\Documents\\TCDCollege\\4-FourthYear\\CSU44099-FinalYearProject\\Fishnet\\Shark-Species-Identifier\\Tensorflow\\workspace\\images\\collectedimages\\tiger\\Tiger Sharks Fight For Survival Trailer.mp4\\1363.png -> Annotation:C:/Users/matte/Documents/TCDCollege/4-FourthYear/CSU44099-FinalYearProject/Fishnet/Shark-Species-Identifier/Tensorflow/workspace/images/collectedimages/tiger/Tiger Sharks Fight For Survival Trailer.mp4\\1363.xml\n",
      "Image:C:\\Users\\matte\\Documents\\TCDCollege\\4-FourthYear\\CSU44099-FinalYearProject\\Fishnet\\Shark-Species-Identifier\\Tensorflow\\workspace\\images\\collectedimages\\tiger\\Tiger Sharks Fight For Survival Trailer.mp4\\1392.png -> Annotation:C:/Users/matte/Documents/TCDCollege/4-FourthYear/CSU44099-FinalYearProject/Fishnet/Shark-Species-Identifier/Tensorflow/workspace/images/collectedimages/tiger/Tiger Sharks Fight For Survival Trailer.mp4\\1392.xml\n",
      "Image:C:\\Users\\matte\\Documents\\TCDCollege\\4-FourthYear\\CSU44099-FinalYearProject\\Fishnet\\Shark-Species-Identifier\\Tensorflow\\workspace\\images\\collectedimages\\tiger\\Tiger Sharks Fight For Survival Trailer.mp4\\1392.png -> Annotation:C:/Users/matte/Documents/TCDCollege/4-FourthYear/CSU44099-FinalYearProject/Fishnet/Shark-Species-Identifier/Tensorflow/workspace/images/collectedimages/tiger/Tiger Sharks Fight For Survival Trailer.mp4\\1392.xml\n",
      "Image:C:\\Users\\matte\\Documents\\TCDCollege\\4-FourthYear\\CSU44099-FinalYearProject\\Fishnet\\Shark-Species-Identifier\\Tensorflow\\workspace\\images\\collectedimages\\tiger\\Tiger Sharks Fight For Survival Trailer.mp4\\1392.png -> Annotation:C:/Users/matte/Documents/TCDCollege/4-FourthYear/CSU44099-FinalYearProject/Fishnet/Shark-Species-Identifier/Tensorflow/workspace/images/collectedimages/tiger/Tiger Sharks Fight For Survival Trailer.mp4\\1392.xml\n",
      "Image:C:\\Users\\matte\\Documents\\TCDCollege\\4-FourthYear\\CSU44099-FinalYearProject\\Fishnet\\Shark-Species-Identifier\\Tensorflow\\workspace\\images\\collectedimages\\tiger\\Tiger Sharks Fight For Survival Trailer.mp4\\1421.png -> Annotation:C:/Users/matte/Documents/TCDCollege/4-FourthYear/CSU44099-FinalYearProject/Fishnet/Shark-Species-Identifier/Tensorflow/workspace/images/collectedimages/tiger/Tiger Sharks Fight For Survival Trailer.mp4\\1421.xml\n",
      "Image:C:\\Users\\matte\\Documents\\TCDCollege\\4-FourthYear\\CSU44099-FinalYearProject\\Fishnet\\Shark-Species-Identifier\\Tensorflow\\workspace\\images\\collectedimages\\tiger\\Tiger Sharks Fight For Survival Trailer.mp4\\1421.png -> Annotation:C:/Users/matte/Documents/TCDCollege/4-FourthYear/CSU44099-FinalYearProject/Fishnet/Shark-Species-Identifier/Tensorflow/workspace/images/collectedimages/tiger/Tiger Sharks Fight For Survival Trailer.mp4\\1421.xml\n",
      "Cancel creation.\n",
      "Cancel creation.\n",
      "Image:C:\\Users\\matte\\Documents\\TCDCollege\\4-FourthYear\\CSU44099-FinalYearProject\\Fishnet\\Shark-Species-Identifier\\Tensorflow\\workspace\\images\\collectedimages\\tiger\\Tiger Sharks Fight For Survival Trailer.mp4\\1450.png -> Annotation:C:/Users/matte/Documents/TCDCollege/4-FourthYear/CSU44099-FinalYearProject/Fishnet/Shark-Species-Identifier/Tensorflow/workspace/images/collectedimages/tiger/Tiger Sharks Fight For Survival Trailer.mp4\\1450.xml\n",
      "Cancel creation.\n",
      "Cancel creation.\n",
      "Image:C:\\Users\\matte\\Documents\\TCDCollege\\4-FourthYear\\CSU44099-FinalYearProject\\Fishnet\\Shark-Species-Identifier\\Tensorflow\\workspace\\images\\collectedimages\\tiger\\Tiger Sharks Fight For Survival Trailer.mp4\\1450.png -> Annotation:C:/Users/matte/Documents/TCDCollege/4-FourthYear/CSU44099-FinalYearProject/Fishnet/Shark-Species-Identifier/Tensorflow/workspace/images/collectedimages/tiger/Tiger Sharks Fight For Survival Trailer.mp4\\1450.xml\n",
      "Image:C:\\Users\\matte\\Documents\\TCDCollege\\4-FourthYear\\CSU44099-FinalYearProject\\Fishnet\\Shark-Species-Identifier\\Tensorflow\\workspace\\images\\collectedimages\\tiger\\Tiger Sharks Fight For Survival Trailer.mp4\\1537.png -> Annotation:C:/Users/matte/Documents/TCDCollege/4-FourthYear/CSU44099-FinalYearProject/Fishnet/Shark-Species-Identifier/Tensorflow/workspace/images/collectedimages/tiger/Tiger Sharks Fight For Survival Trailer.mp4\\1537.xml\n",
      "Image:C:\\Users\\matte\\Documents\\TCDCollege\\4-FourthYear\\CSU44099-FinalYearProject\\Fishnet\\Shark-Species-Identifier\\Tensorflow\\workspace\\images\\collectedimages\\tiger\\Tiger Sharks Fight For Survival Trailer.mp4\\1566.png -> Annotation:C:/Users/matte/Documents/TCDCollege/4-FourthYear/CSU44099-FinalYearProject/Fishnet/Shark-Species-Identifier/Tensorflow/workspace/images/collectedimages/tiger/Tiger Sharks Fight For Survival Trailer.mp4\\1566.xml\n",
      "Cancel creation.\n",
      "Image:C:\\Users\\matte\\Documents\\TCDCollege\\4-FourthYear\\CSU44099-FinalYearProject\\Fishnet\\Shark-Species-Identifier\\Tensorflow\\workspace\\images\\collectedimages\\tiger\\Tiger Sharks Fight For Survival Trailer.mp4\\1566.png -> Annotation:C:/Users/matte/Documents/TCDCollege/4-FourthYear/CSU44099-FinalYearProject/Fishnet/Shark-Species-Identifier/Tensorflow/workspace/images/collectedimages/tiger/Tiger Sharks Fight For Survival Trailer.mp4\\1566.xml\n",
      "Image:C:\\Users\\matte\\Documents\\TCDCollege\\4-FourthYear\\CSU44099-FinalYearProject\\Fishnet\\Shark-Species-Identifier\\Tensorflow\\workspace\\images\\collectedimages\\tiger\\Tiger Sharks Fight For Survival Trailer.mp4\\1595.png -> Annotation:C:/Users/matte/Documents/TCDCollege/4-FourthYear/CSU44099-FinalYearProject/Fishnet/Shark-Species-Identifier/Tensorflow/workspace/images/collectedimages/tiger/Tiger Sharks Fight For Survival Trailer.mp4\\1595.xml\n",
      "Image:C:\\Users\\matte\\Documents\\TCDCollege\\4-FourthYear\\CSU44099-FinalYearProject\\Fishnet\\Shark-Species-Identifier\\Tensorflow\\workspace\\images\\collectedimages\\tiger\\Tiger Sharks Fight For Survival Trailer.mp4\\1595.png -> Annotation:C:/Users/matte/Documents/TCDCollege/4-FourthYear/CSU44099-FinalYearProject/Fishnet/Shark-Species-Identifier/Tensorflow/workspace/images/collectedimages/tiger/Tiger Sharks Fight For Survival Trailer.mp4\\1595.xml\n",
      "Image:C:\\Users\\matte\\Documents\\TCDCollege\\4-FourthYear\\CSU44099-FinalYearProject\\Fishnet\\Shark-Species-Identifier\\Tensorflow\\workspace\\images\\collectedimages\\tiger\\Tiger Sharks Fight For Survival Trailer.mp4\\1624.png -> Annotation:C:/Users/matte/Documents/TCDCollege/4-FourthYear/CSU44099-FinalYearProject/Fishnet/Shark-Species-Identifier/Tensorflow/workspace/images/collectedimages/tiger/Tiger Sharks Fight For Survival Trailer.mp4\\1624.xml\n",
      "Image:C:\\Users\\matte\\Documents\\TCDCollege\\4-FourthYear\\CSU44099-FinalYearProject\\Fishnet\\Shark-Species-Identifier\\Tensorflow\\workspace\\images\\collectedimages\\tiger\\Tiger Sharks Fight For Survival Trailer.mp4\\1653.png -> Annotation:C:/Users/matte/Documents/TCDCollege/4-FourthYear/CSU44099-FinalYearProject/Fishnet/Shark-Species-Identifier/Tensorflow/workspace/images/collectedimages/tiger/Tiger Sharks Fight For Survival Trailer.mp4\\1653.xml\n",
      "Image:C:\\Users\\matte\\Documents\\TCDCollege\\4-FourthYear\\CSU44099-FinalYearProject\\Fishnet\\Shark-Species-Identifier\\Tensorflow\\workspace\\images\\collectedimages\\tiger\\Tiger Sharks Fight For Survival Trailer.mp4\\1682.png -> Annotation:C:/Users/matte/Documents/TCDCollege/4-FourthYear/CSU44099-FinalYearProject/Fishnet/Shark-Species-Identifier/Tensorflow/workspace/images/collectedimages/tiger/Tiger Sharks Fight For Survival Trailer.mp4\\1682.xml\n",
      "Image:C:\\Users\\matte\\Documents\\TCDCollege\\4-FourthYear\\CSU44099-FinalYearProject\\Fishnet\\Shark-Species-Identifier\\Tensorflow\\workspace\\images\\collectedimages\\tiger\\Tiger Sharks Fight For Survival Trailer.mp4\\2175.png -> Annotation:C:/Users/matte/Documents/TCDCollege/4-FourthYear/CSU44099-FinalYearProject/Fishnet/Shark-Species-Identifier/Tensorflow/workspace/images/collectedimages/tiger/Tiger Sharks Fight For Survival Trailer.mp4\\2175.xml\n"
     ]
    }
   ],
   "source": [
    "!cd {LABELIMG_PATH} && python labelImg.py"
   ]
  },
  {
   "cell_type": "markdown",
   "id": "cf42365c",
   "metadata": {},
   "source": [
    "# 6. Move them into a Training and Testing Partition"
   ]
  },
  {
   "cell_type": "markdown",
   "id": "667c449b",
   "metadata": {},
   "source": [
    "# 7. OPTIONAL: 7. Compress them for Colab Training"
   ]
  }
 ],
 "metadata": {
  "celltoolbar": "Raw Cell Format",
  "kernelspec": {
   "display_name": "identificationSystem",
   "language": "python",
   "name": "identificationsystem"
  },
  "language_info": {
   "codemirror_mode": {
    "name": "ipython",
    "version": 3
   },
   "file_extension": ".py",
   "mimetype": "text/x-python",
   "name": "python",
   "nbconvert_exporter": "python",
   "pygments_lexer": "ipython3",
   "version": "3.10.4"
  }
 },
 "nbformat": 4,
 "nbformat_minor": 5
}
