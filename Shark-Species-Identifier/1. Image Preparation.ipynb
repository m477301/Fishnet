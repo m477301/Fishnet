{
 "cells": [
  {
   "cell_type": "markdown",
   "id": "5c638e28",
   "metadata": {},
   "source": [
    "# 1. Import Dependencies"
   ]
  },
  {
   "cell_type": "code",
   "execution_count": 1,
   "id": "840e2c14",
   "metadata": {},
   "outputs": [
    {
     "name": "stdout",
     "output_type": "stream",
     "text": [
      "Requirement already satisfied: opencv-python in c:\\users\\matte\\documents\\tcdcollege\\4-fourthyear\\csu44099-finalyearproject\\fishnet\\shark-species-identifier\\identificationsystem\\lib\\site-packages (4.7.0.68)\n",
      "Requirement already satisfied: numpy>=1.21.2 in c:\\users\\matte\\documents\\tcdcollege\\4-fourthyear\\csu44099-finalyearproject\\fishnet\\shark-species-identifier\\identificationsystem\\lib\\site-packages (from opencv-python) (1.24.2)\n"
     ]
    }
   ],
   "source": [
    "!pip install opencv-python"
   ]
  },
  {
   "cell_type": "code",
   "execution_count": 2,
   "id": "a1d1478d",
   "metadata": {},
   "outputs": [],
   "source": [
    "# Import opencv\n",
    "import cv2 \n",
    "\n",
    "# Import uuid\n",
    "import uuid\n",
    "\n",
    "# Import Operating System\n",
    "import os\n",
    "\n",
    "# Import time\n",
    "import time"
   ]
  },
  {
   "cell_type": "markdown",
   "id": "5cacce82",
   "metadata": {},
   "source": [
    "# 2. Define Shark Species Images to Collect"
   ]
  },
  {
   "cell_type": "code",
   "execution_count": 3,
   "id": "8b11272e",
   "metadata": {},
   "outputs": [],
   "source": [
    "labels = ['BlackTi', 'Nurse', 'Tiger']\n",
    "number_imgs = 4"
   ]
  },
  {
   "cell_type": "markdown",
   "id": "fdb2ecfd",
   "metadata": {},
   "source": [
    "# 3. Setup Folders"
   ]
  },
  {
   "cell_type": "code",
   "execution_count": 4,
   "id": "b5c948be",
   "metadata": {},
   "outputs": [],
   "source": [
    "IMAGES_PATH = os.path.join('Tensorflow', 'workspace', 'images', 'collectedimages')"
   ]
  },
  {
   "cell_type": "code",
   "execution_count": 5,
   "id": "2048c1cb",
   "metadata": {},
   "outputs": [
    {
     "name": "stderr",
     "output_type": "stream",
     "text": [
      "A subdirectory or file Tensorflow\\workspace\\images\\collectedimages\\Whale already exists.\n",
      "Error occurred while processing: Tensorflow\\workspace\\images\\collectedimages\\Whale.\n",
      "A subdirectory or file shark already exists.\n",
      "Error occurred while processing: shark.\n",
      "A subdirectory or file Tensorflow\\workspace\\images\\collectedimages\\White already exists.\n",
      "Error occurred while processing: Tensorflow\\workspace\\images\\collectedimages\\White.\n",
      "A subdirectory or file shark already exists.\n",
      "Error occurred while processing: shark.\n",
      "A subdirectory or file Tensorflow\\workspace\\images\\collectedimages\\Tiger already exists.\n",
      "Error occurred while processing: Tensorflow\\workspace\\images\\collectedimages\\Tiger.\n",
      "A subdirectory or file shark already exists.\n",
      "Error occurred while processing: shark.\n"
     ]
    }
   ],
   "source": [
    "if not os.path.exists(IMAGES_PATH):\n",
    "    if os.name == 'posix':\n",
    "        !mkdir -p {IMAGES_PATH}\n",
    "    if os.name == 'nt':\n",
    "         !mkdir {IMAGES_PATH}\n",
    "for label in labels:\n",
    "    path = os.path.join(IMAGES_PATH, label)\n",
    "    if not os.path.exists(path):\n",
    "        !mkdir {path}"
   ]
  },
  {
   "cell_type": "markdown",
   "id": "46303d5f",
   "metadata": {},
   "source": [
    "# 4. Capture Images from Video"
   ]
  },
  {
   "cell_type": "code",
   "execution_count": 26,
   "id": "39d0ef94",
   "metadata": {},
   "outputs": [],
   "source": [
    "# run all\n",
    "video_path = 'C:/Users/matte/Documents/TCDCollege/4-FourthYear/CSU44099-FinalYearProject/Fishnet/Shark-Species-Identifier/identificationSystem/Media/' # all videos\n",
    "output_path = 'C:/Users/matte/Documents/TCDCollege/4-FourthYear/CSU44099-FinalYearProject/Fishnet/Shark-Species-Identifier/Tensorflow/workspace/images/collectedimages/Tiger/' # location on ur pc"
   ]
  },
  {
   "cell_type": "code",
   "execution_count": 28,
   "id": "19fe6d6c",
   "metadata": {},
   "outputs": [],
   "source": [
    "# Import Video\n",
    "list_videos = os.listdir(video_path)\n",
    "for video in list_videos:\n",
    "    video_base = os.path.basename(video)\n",
    "    input_file = video_path + '/' + video\n",
    "    out_path = output_path + '/' + video_base\n",
    "    # Convert Video to frame\n",
    "    if not os.path.exists(out_path):\n",
    "        os.makedirs(out_path)\n",
    "    cap = cv2.VideoCapture(input_file)\n",
    "    index = 0        \n",
    "    while cap.isOpened():\n",
    "        Ret, Mat = cap.read()\n",
    "        if Ret:\n",
    "            index += 1\n",
    "            if index % 29 != 0:\n",
    "                continue\n",
    "            cv2.imwrite(out_path + '/' + str(index) + '.png', Mat)\n",
    "        else:\n",
    "            break\n",
    "    cap.release()"
   ]
  },
  {
   "cell_type": "markdown",
   "id": "4eb03f03",
   "metadata": {},
   "source": [
    "# 5. Label Images"
   ]
  },
  {
   "cell_type": "code",
   "execution_count": 6,
   "id": "4504d379",
   "metadata": {},
   "outputs": [
    {
     "name": "stdout",
     "output_type": "stream",
     "text": [
      "Collecting pyqt5\n",
      "  Using cached PyQt5-5.15.9-cp37-abi3-win_amd64.whl (6.8 MB)\n",
      "Collecting lxml\n",
      "  Using cached lxml-4.9.2-cp310-cp310-win_amd64.whl (3.8 MB)\n",
      "Collecting PyQt5-sip<13,>=12.11\n",
      "  Using cached PyQt5_sip-12.11.1-cp310-cp310-win_amd64.whl (78 kB)\n",
      "Collecting PyQt5-Qt5>=5.15.2\n",
      "  Using cached PyQt5_Qt5-5.15.2-py3-none-win_amd64.whl (50.1 MB)\n",
      "Installing collected packages: PyQt5-Qt5, PyQt5-sip, lxml, pyqt5\n",
      "Successfully installed PyQt5-Qt5-5.15.2 PyQt5-sip-12.11.1 lxml-4.9.2 pyqt5-5.15.9\n"
     ]
    }
   ],
   "source": [
    "!pip install --upgrade pyqt5 lxml"
   ]
  },
  {
   "cell_type": "code",
   "execution_count": 7,
   "id": "add90bcb",
   "metadata": {},
   "outputs": [],
   "source": [
    "LABELIMG_PATH = os.path.join('Tensorflow', 'labelimg')"
   ]
  },
  {
   "cell_type": "code",
   "execution_count": 8,
   "id": "59978098",
   "metadata": {},
   "outputs": [
    {
     "name": "stderr",
     "output_type": "stream",
     "text": [
      "Cloning into 'Tensorflow\\labelimg'...\n"
     ]
    }
   ],
   "source": [
    "if not os.path.exists(LABELIMG_PATH):\n",
    "    !mkdir {LABELIMG_PATH}\n",
    "    !git clone https://github.com/tzutalin/labelImg {LABELIMG_PATH}"
   ]
  },
  {
   "cell_type": "code",
   "execution_count": 9,
   "id": "9c26b497",
   "metadata": {},
   "outputs": [],
   "source": [
    "if os.name == 'posix':\n",
    "    !make qt5py3\n",
    "if os.name =='nt':\n",
    "    !cd {LABELIMG_PATH} && pyrcc5 -o libs/resources.py resources.qrc"
   ]
  },
  {
   "cell_type": "code",
   "execution_count": null,
   "id": "8725065b",
   "metadata": {},
   "outputs": [],
   "source": [
    "!cd {LABELIMG_PATH} && python labelImg.py"
   ]
  },
  {
   "cell_type": "markdown",
   "id": "cf42365c",
   "metadata": {},
   "source": [
    "# 6. Move them into a Training and Testing Partition"
   ]
  },
  {
   "cell_type": "markdown",
   "id": "667c449b",
   "metadata": {},
   "source": [
    "# 7. OPTIONAL: 7. Compress them for Colab Training"
   ]
  }
 ],
 "metadata": {
  "celltoolbar": "Raw Cell Format",
  "kernelspec": {
   "display_name": "identificationSystem",
   "language": "python",
   "name": "identificationsystem"
  },
  "language_info": {
   "codemirror_mode": {
    "name": "ipython",
    "version": 3
   },
   "file_extension": ".py",
   "mimetype": "text/x-python",
   "name": "python",
   "nbconvert_exporter": "python",
   "pygments_lexer": "ipython3",
   "version": "3.10.4"
  }
 },
 "nbformat": 4,
 "nbformat_minor": 5
}
